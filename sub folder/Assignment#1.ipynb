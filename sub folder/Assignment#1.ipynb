{
  "cells": [
    {
      "cell_type": "markdown",
      "metadata": {
        "id": "ekczNcQxUpzT"
      },
      "source": [
        "<p align=\"center\"><img width=\"50%\" src=\"https://aimodelsharecontent.s3.amazonaws.com/aimodshare_banner.jpg\" /></p>\n",
        "\n",
        "\n",
        "---"
      ]
    },
    {
      "cell_type": "markdown",
      "metadata": {
        "id": "JXxGTgJz152A"
      },
      "source": [
        "## Model Submission Guide: World Happiness Classification Competition\n",
        "Let's share our models to a centralized leaderboard, so that we can collaborate and learn from the model experimentation process...\n",
        "\n",
        "**Instructions:**\n",
        "1.   Get data in and set up X_train / X_test / y_train\n",
        "2.   Preprocess data using Sklearn Column Transformer/ Write and Save Preprocessor function\n",
        "3. Fit model on preprocessed data and save preprocessor function and model \n",
        "4. Generate predictions from X_test data and submit model to competition\n",
        "5. Repeat submission process to improve place on leaderboard\n",
        "\n"
      ]
    },
    {
      "cell_type": "markdown",
      "metadata": {},
      "source": [
        "Link to repo: https://github.com/ruiqixue16/World-Happiness-ML-Models"
      ]
    },
    {
      "cell_type": "markdown",
      "metadata": {
        "id": "5gSrVJwp3E9H"
      },
      "source": [
        "## 1. Get data in and set up X_train, X_test, y_train objects"
      ]
    },
    {
      "cell_type": "code",
      "execution_count": 2,
      "metadata": {
        "colab": {
          "base_uri": "https://localhost:8080/"
        },
        "id": "PLTIaMB3ChSW",
        "outputId": "c6431a46-07e5-4c1a-9330-a1baee5281c7"
      },
      "outputs": [
        {
          "name": "stdout",
          "output_type": "stream",
          "text": [
            "Looking in indexes: https://pypi.org/simple, https://us-python.pkg.dev/colab-wheels/public/simple/\n",
            "Collecting aimodelshare\n",
            "  Downloading aimodelshare-0.0.178-py3-none-any.whl (966 kB)\n",
            "\u001b[2K     \u001b[90m━━━━━━━━━━━━━━━━━━━━━━━━━━━━━━━━━━━━━━\u001b[0m \u001b[32m967.0/967.0 KB\u001b[0m \u001b[31m25.8 MB/s\u001b[0m eta \u001b[36m0:00:00\u001b[0m\n",
            "\u001b[?25hCollecting psutil>=5.9.1\n",
            "  Downloading psutil-5.9.4-cp36-abi3-manylinux_2_12_x86_64.manylinux2010_x86_64.manylinux_2_17_x86_64.manylinux2014_x86_64.whl (280 kB)\n",
            "\u001b[2K     \u001b[90m━━━━━━━━━━━━━━━━━━━━━━━━━━━━━━━━━━━━━━\u001b[0m \u001b[32m280.2/280.2 KB\u001b[0m \u001b[31m32.8 MB/s\u001b[0m eta \u001b[36m0:00:00\u001b[0m\n",
            "\u001b[?25hCollecting docker==5.0.0\n",
            "  Downloading docker-5.0.0-py2.py3-none-any.whl (146 kB)\n",
            "\u001b[2K     \u001b[90m━━━━━━━━━━━━━━━━━━━━━━━━━━━━━━━━━━━━━━\u001b[0m \u001b[32m147.0/147.0 KB\u001b[0m \u001b[31m16.4 MB/s\u001b[0m eta \u001b[36m0:00:00\u001b[0m\n",
            "\u001b[?25hRequirement already satisfied: pathlib>=1.0.1 in /usr/local/lib/python3.8/dist-packages (from aimodelshare) (1.0.1)\n",
            "Collecting wget==3.2\n",
            "  Downloading wget-3.2.zip (10 kB)\n",
            "  Preparing metadata (setup.py) ... \u001b[?25l\u001b[?25hdone\n",
            "Collecting keras2onnx>=1.7.0\n",
            "  Downloading keras2onnx-1.7.0-py3-none-any.whl (96 kB)\n",
            "\u001b[2K     \u001b[90m━━━━━━━━━━━━━━━━━━━━━━━━━━━━━━━━━━━━━━━━\u001b[0m \u001b[32m96.3/96.3 KB\u001b[0m \u001b[31m10.9 MB/s\u001b[0m eta \u001b[36m0:00:00\u001b[0m\n",
            "\u001b[?25hCollecting Pympler==0.9\n",
            "  Downloading Pympler-0.9.tar.gz (178 kB)\n",
            "\u001b[2K     \u001b[90m━━━━━━━━━━━━━━━━━━━━━━━━━━━━━━━━━━━━━━\u001b[0m \u001b[32m178.4/178.4 KB\u001b[0m \u001b[31m18.8 MB/s\u001b[0m eta \u001b[36m0:00:00\u001b[0m\n",
            "\u001b[?25h  Preparing metadata (setup.py) ... \u001b[?25l\u001b[?25hdone\n",
            "Collecting shortuuid>=1.0.8\n",
            "  Downloading shortuuid-1.0.11-py3-none-any.whl (10 kB)\n",
            "Collecting skl2onnx>=1.8.0\n",
            "  Downloading skl2onnx-1.13-py2.py3-none-any.whl (288 kB)\n",
            "\u001b[2K     \u001b[90m━━━━━━━━━━━━━━━━━━━━━━━━━━━━━━━━━━━━━━\u001b[0m \u001b[32m288.7/288.7 KB\u001b[0m \u001b[31m29.0 MB/s\u001b[0m eta \u001b[36m0:00:00\u001b[0m\n",
            "\u001b[?25hCollecting scikit-learn==0.24.2\n",
            "  Downloading scikit_learn-0.24.2-cp38-cp38-manylinux2010_x86_64.whl (24.9 MB)\n",
            "\u001b[2K     \u001b[90m━━━━━━━━━━━━━━━━━━━━━━━━━━━━━━━━━━━━━━━━\u001b[0m \u001b[32m24.9/24.9 MB\u001b[0m \u001b[31m41.8 MB/s\u001b[0m eta \u001b[36m0:00:00\u001b[0m\n",
            "\u001b[?25hCollecting tf2onnx\n",
            "  Downloading tf2onnx-1.13.0-py3-none-any.whl (442 kB)\n",
            "\u001b[2K     \u001b[90m━━━━━━━━━━━━━━━━━━━━━━━━━━━━━━━━━━━━━━\u001b[0m \u001b[32m442.3/442.3 KB\u001b[0m \u001b[31m45.3 MB/s\u001b[0m eta \u001b[36m0:00:00\u001b[0m\n",
            "\u001b[?25hCollecting PyJWT>=2.4.0\n",
            "  Downloading PyJWT-2.6.0-py3-none-any.whl (20 kB)\n",
            "Collecting botocore==1.24.20\n",
            "  Downloading botocore-1.24.20-py3-none-any.whl (8.6 MB)\n",
            "\u001b[2K     \u001b[90m━━━━━━━━━━━━━━━━━━━━━━━━━━━━━━━━━━━━━━━━\u001b[0m \u001b[32m8.6/8.6 MB\u001b[0m \u001b[31m76.8 MB/s\u001b[0m eta \u001b[36m0:00:00\u001b[0m\n",
            "\u001b[?25hRequirement already satisfied: torch>=1.8.1 in /usr/local/lib/python3.8/dist-packages (from aimodelshare) (1.13.1+cu116)\n",
            "Requirement already satisfied: astunparse==1.6.3 in /usr/local/lib/python3.8/dist-packages (from aimodelshare) (1.6.3)\n",
            "Collecting importlib-resources==5.10.0\n",
            "  Downloading importlib_resources-5.10.0-py3-none-any.whl (34 kB)\n",
            "Collecting onnxmltools>=1.6.1\n",
            "  Downloading onnxmltools-1.11.1-py3-none-any.whl (308 kB)\n",
            "\u001b[2K     \u001b[90m━━━━━━━━━━━━━━━━━━━━━━━━━━━━━━━━━━━━━━\u001b[0m \u001b[32m308.6/308.6 KB\u001b[0m \u001b[31m32.6 MB/s\u001b[0m eta \u001b[36m0:00:00\u001b[0m\n",
            "\u001b[?25hCollecting onnxconverter-common>=1.7.0\n",
            "  Downloading onnxconverter_common-1.13.0-py2.py3-none-any.whl (83 kB)\n",
            "\u001b[2K     \u001b[90m━━━━━━━━━━━━━━━━━━━━━━━━━━━━━━━━━━━━━━━━\u001b[0m \u001b[32m83.8/83.8 KB\u001b[0m \u001b[31m8.4 MB/s\u001b[0m eta \u001b[36m0:00:00\u001b[0m\n",
            "\u001b[?25hCollecting onnxruntime>=1.7.0\n",
            "  Downloading onnxruntime-1.13.1-cp38-cp38-manylinux_2_27_x86_64.whl (4.5 MB)\n",
            "\u001b[2K     \u001b[90m━━━━━━━━━━━━━━━━━━━━━━━━━━━━━━━━━━━━━━━━\u001b[0m \u001b[32m4.5/4.5 MB\u001b[0m \u001b[31m64.7 MB/s\u001b[0m eta \u001b[36m0:00:00\u001b[0m\n",
            "\u001b[?25hRequirement already satisfied: pydot==1.3.0 in /usr/local/lib/python3.8/dist-packages (from aimodelshare) (1.3.0)\n",
            "Requirement already satisfied: regex in /usr/local/lib/python3.8/dist-packages (from aimodelshare) (2022.6.2)\n",
            "Requirement already satisfied: tensorflow==2.9.2 in /usr/local/lib/python3.8/dist-packages (from aimodelshare) (2.9.2)\n",
            "Collecting onnx==1.12.0\n",
            "  Downloading onnx-1.12.0-cp38-cp38-manylinux_2_17_x86_64.manylinux2014_x86_64.whl (13.1 MB)\n",
            "\u001b[2K     \u001b[90m━━━━━━━━━━━━━━━━━━━━━━━━━━━━━━━━━━━━━━━━\u001b[0m \u001b[32m13.1/13.1 MB\u001b[0m \u001b[31m61.3 MB/s\u001b[0m eta \u001b[36m0:00:00\u001b[0m\n",
            "\u001b[?25hRequirement already satisfied: seaborn>=0.11.2 in /usr/local/lib/python3.8/dist-packages (from aimodelshare) (0.11.2)\n",
            "Collecting boto3==1.21.20\n",
            "  Downloading boto3-1.21.20-py3-none-any.whl (132 kB)\n",
            "\u001b[2K     \u001b[90m━━━━━━━━━━━━━━━━━━━━━━━━━━━━━━━━━━━━━\u001b[0m \u001b[32m132.3/132.3 KB\u001b[0m \u001b[31m770.5 kB/s\u001b[0m eta \u001b[36m0:00:00\u001b[0m\n",
            "\u001b[?25hRequirement already satisfied: wheel<1.0,>=0.23.0 in /usr/local/lib/python3.8/dist-packages (from astunparse==1.6.3->aimodelshare) (0.38.4)\n",
            "Requirement already satisfied: six<2.0,>=1.6.1 in /usr/local/lib/python3.8/dist-packages (from astunparse==1.6.3->aimodelshare) (1.15.0)\n",
            "Collecting jmespath<1.0.0,>=0.7.1\n",
            "  Downloading jmespath-0.10.0-py2.py3-none-any.whl (24 kB)\n",
            "Collecting s3transfer<0.6.0,>=0.5.0\n",
            "  Downloading s3transfer-0.5.2-py3-none-any.whl (79 kB)\n",
            "\u001b[2K     \u001b[90m━━━━━━━━━━━━━━━━━━━━━━━━━━━━━━━━━━━━━━━━\u001b[0m \u001b[32m79.5/79.5 KB\u001b[0m \u001b[31m8.9 MB/s\u001b[0m eta \u001b[36m0:00:00\u001b[0m\n",
            "\u001b[?25hCollecting urllib3<1.27,>=1.25.4\n",
            "  Downloading urllib3-1.26.14-py2.py3-none-any.whl (140 kB)\n",
            "\u001b[2K     \u001b[90m━━━━━━━━━━━━━━━━━━━━━━━━━━━━━━━━━━━━━━\u001b[0m \u001b[32m140.6/140.6 KB\u001b[0m \u001b[31m16.2 MB/s\u001b[0m eta \u001b[36m0:00:00\u001b[0m\n",
            "\u001b[?25hRequirement already satisfied: python-dateutil<3.0.0,>=2.1 in /usr/local/lib/python3.8/dist-packages (from botocore==1.24.20->aimodelshare) (2.8.2)\n",
            "Collecting websocket-client>=0.32.0\n",
            "  Downloading websocket_client-1.5.1-py3-none-any.whl (55 kB)\n",
            "\u001b[2K     \u001b[90m━━━━━━━━━━━━━━━━━━━━━━━━━━━━━━━━━━━━━━━━\u001b[0m \u001b[32m55.9/55.9 KB\u001b[0m \u001b[31m6.2 MB/s\u001b[0m eta \u001b[36m0:00:00\u001b[0m\n",
            "\u001b[?25hRequirement already satisfied: requests!=2.18.0,>=2.14.2 in /usr/local/lib/python3.8/dist-packages (from docker==5.0.0->aimodelshare) (2.25.1)\n",
            "Requirement already satisfied: zipp>=3.1.0 in /usr/local/lib/python3.8/dist-packages (from importlib-resources==5.10.0->aimodelshare) (3.12.0)\n",
            "Requirement already satisfied: numpy>=1.16.6 in /usr/local/lib/python3.8/dist-packages (from onnx==1.12.0->aimodelshare) (1.21.6)\n",
            "Requirement already satisfied: protobuf<=3.20.1,>=3.12.2 in /usr/local/lib/python3.8/dist-packages (from onnx==1.12.0->aimodelshare) (3.19.6)\n",
            "Requirement already satisfied: typing-extensions>=3.6.2.1 in /usr/local/lib/python3.8/dist-packages (from onnx==1.12.0->aimodelshare) (4.4.0)\n",
            "Requirement already satisfied: pyparsing>=2.1.4 in /usr/local/lib/python3.8/dist-packages (from pydot==1.3.0->aimodelshare) (3.0.9)\n",
            "Requirement already satisfied: scipy>=0.19.1 in /usr/local/lib/python3.8/dist-packages (from scikit-learn==0.24.2->aimodelshare) (1.7.3)\n",
            "Requirement already satisfied: joblib>=0.11 in /usr/local/lib/python3.8/dist-packages (from scikit-learn==0.24.2->aimodelshare) (1.2.0)\n",
            "Requirement already satisfied: threadpoolctl>=2.0.0 in /usr/local/lib/python3.8/dist-packages (from scikit-learn==0.24.2->aimodelshare) (3.1.0)\n",
            "Requirement already satisfied: libclang>=13.0.0 in /usr/local/lib/python3.8/dist-packages (from tensorflow==2.9.2->aimodelshare) (15.0.6.1)\n",
            "Requirement already satisfied: setuptools in /usr/local/lib/python3.8/dist-packages (from tensorflow==2.9.2->aimodelshare) (57.4.0)\n",
            "Requirement already satisfied: termcolor>=1.1.0 in /usr/local/lib/python3.8/dist-packages (from tensorflow==2.9.2->aimodelshare) (2.2.0)\n",
            "Requirement already satisfied: google-pasta>=0.1.1 in /usr/local/lib/python3.8/dist-packages (from tensorflow==2.9.2->aimodelshare) (0.2.0)\n",
            "Requirement already satisfied: tensorflow-estimator<2.10.0,>=2.9.0rc0 in /usr/local/lib/python3.8/dist-packages (from tensorflow==2.9.2->aimodelshare) (2.9.0)\n",
            "Requirement already satisfied: keras-preprocessing>=1.1.1 in /usr/local/lib/python3.8/dist-packages (from tensorflow==2.9.2->aimodelshare) (1.1.2)\n",
            "Requirement already satisfied: keras<2.10.0,>=2.9.0rc0 in /usr/local/lib/python3.8/dist-packages (from tensorflow==2.9.2->aimodelshare) (2.9.0)\n",
            "Requirement already satisfied: gast<=0.4.0,>=0.2.1 in /usr/local/lib/python3.8/dist-packages (from tensorflow==2.9.2->aimodelshare) (0.4.0)\n",
            "Requirement already satisfied: packaging in /usr/local/lib/python3.8/dist-packages (from tensorflow==2.9.2->aimodelshare) (23.0)\n",
            "Requirement already satisfied: grpcio<2.0,>=1.24.3 in /usr/local/lib/python3.8/dist-packages (from tensorflow==2.9.2->aimodelshare) (1.51.1)\n",
            "Requirement already satisfied: tensorboard<2.10,>=2.9 in /usr/local/lib/python3.8/dist-packages (from tensorflow==2.9.2->aimodelshare) (2.9.1)\n",
            "Requirement already satisfied: flatbuffers<2,>=1.12 in /usr/local/lib/python3.8/dist-packages (from tensorflow==2.9.2->aimodelshare) (1.12)\n",
            "Requirement already satisfied: tensorflow-io-gcs-filesystem>=0.23.1 in /usr/local/lib/python3.8/dist-packages (from tensorflow==2.9.2->aimodelshare) (0.30.0)\n",
            "Requirement already satisfied: opt-einsum>=2.3.2 in /usr/local/lib/python3.8/dist-packages (from tensorflow==2.9.2->aimodelshare) (3.3.0)\n",
            "Requirement already satisfied: absl-py>=1.0.0 in /usr/local/lib/python3.8/dist-packages (from tensorflow==2.9.2->aimodelshare) (1.4.0)\n",
            "Requirement already satisfied: h5py>=2.9.0 in /usr/local/lib/python3.8/dist-packages (from tensorflow==2.9.2->aimodelshare) (3.1.0)\n",
            "Requirement already satisfied: wrapt>=1.11.0 in /usr/local/lib/python3.8/dist-packages (from tensorflow==2.9.2->aimodelshare) (1.14.1)\n",
            "Collecting fire\n",
            "  Downloading fire-0.5.0.tar.gz (88 kB)\n",
            "\u001b[2K     \u001b[90m━━━━━━━━━━━━━━━━━━━━━━━━━━━━━━━━━━━━━━━━\u001b[0m \u001b[32m88.3/88.3 KB\u001b[0m \u001b[31m10.5 MB/s\u001b[0m eta \u001b[36m0:00:00\u001b[0m\n",
            "\u001b[?25h  Preparing metadata (setup.py) ... \u001b[?25l\u001b[?25hdone\n",
            "Requirement already satisfied: sympy in /usr/local/lib/python3.8/dist-packages (from onnxruntime>=1.7.0->aimodelshare) (1.7.1)\n",
            "Collecting coloredlogs\n",
            "  Downloading coloredlogs-15.0.1-py2.py3-none-any.whl (46 kB)\n",
            "\u001b[2K     \u001b[90m━━━━━━━━━━━━━━━━━━━━━━━━━━━━━━━━━━━━━━━━\u001b[0m \u001b[32m46.0/46.0 KB\u001b[0m \u001b[31m5.4 MB/s\u001b[0m eta \u001b[36m0:00:00\u001b[0m\n",
            "\u001b[?25hRequirement already satisfied: pandas>=0.23 in /usr/local/lib/python3.8/dist-packages (from seaborn>=0.11.2->aimodelshare) (1.3.5)\n",
            "Requirement already satisfied: matplotlib>=2.2 in /usr/local/lib/python3.8/dist-packages (from seaborn>=0.11.2->aimodelshare) (3.2.2)\n",
            "Requirement already satisfied: kiwisolver>=1.0.1 in /usr/local/lib/python3.8/dist-packages (from matplotlib>=2.2->seaborn>=0.11.2->aimodelshare) (1.4.4)\n",
            "Requirement already satisfied: cycler>=0.10 in /usr/local/lib/python3.8/dist-packages (from matplotlib>=2.2->seaborn>=0.11.2->aimodelshare) (0.11.0)\n",
            "Requirement already satisfied: pytz>=2017.3 in /usr/local/lib/python3.8/dist-packages (from pandas>=0.23->seaborn>=0.11.2->aimodelshare) (2022.7.1)\n",
            "Requirement already satisfied: certifi>=2017.4.17 in /usr/local/lib/python3.8/dist-packages (from requests!=2.18.0,>=2.14.2->docker==5.0.0->aimodelshare) (2022.12.7)\n",
            "Requirement already satisfied: chardet<5,>=3.0.2 in /usr/local/lib/python3.8/dist-packages (from requests!=2.18.0,>=2.14.2->docker==5.0.0->aimodelshare) (4.0.0)\n",
            "Requirement already satisfied: idna<3,>=2.5 in /usr/local/lib/python3.8/dist-packages (from requests!=2.18.0,>=2.14.2->docker==5.0.0->aimodelshare) (2.10)\n",
            "Requirement already satisfied: google-auth<3,>=1.6.3 in /usr/local/lib/python3.8/dist-packages (from tensorboard<2.10,>=2.9->tensorflow==2.9.2->aimodelshare) (2.16.0)\n",
            "Requirement already satisfied: werkzeug>=1.0.1 in /usr/local/lib/python3.8/dist-packages (from tensorboard<2.10,>=2.9->tensorflow==2.9.2->aimodelshare) (1.0.1)\n",
            "Requirement already satisfied: tensorboard-data-server<0.7.0,>=0.6.0 in /usr/local/lib/python3.8/dist-packages (from tensorboard<2.10,>=2.9->tensorflow==2.9.2->aimodelshare) (0.6.1)\n",
            "Requirement already satisfied: google-auth-oauthlib<0.5,>=0.4.1 in /usr/local/lib/python3.8/dist-packages (from tensorboard<2.10,>=2.9->tensorflow==2.9.2->aimodelshare) (0.4.6)\n",
            "Requirement already satisfied: markdown>=2.6.8 in /usr/local/lib/python3.8/dist-packages (from tensorboard<2.10,>=2.9->tensorflow==2.9.2->aimodelshare) (3.4.1)\n",
            "Requirement already satisfied: tensorboard-plugin-wit>=1.6.0 in /usr/local/lib/python3.8/dist-packages (from tensorboard<2.10,>=2.9->tensorflow==2.9.2->aimodelshare) (1.8.1)\n",
            "Collecting humanfriendly>=9.1\n",
            "  Downloading humanfriendly-10.0-py2.py3-none-any.whl (86 kB)\n",
            "\u001b[2K     \u001b[90m━━━━━━━━━━━━━━━━━━━━━━━━━━━━━━━━━━━━━━━━\u001b[0m \u001b[32m86.8/86.8 KB\u001b[0m \u001b[31m10.2 MB/s\u001b[0m eta \u001b[36m0:00:00\u001b[0m\n",
            "\u001b[?25hRequirement already satisfied: mpmath>=0.19 in /usr/local/lib/python3.8/dist-packages (from sympy->onnxruntime>=1.7.0->aimodelshare) (1.2.1)\n",
            "Requirement already satisfied: pyasn1-modules>=0.2.1 in /usr/local/lib/python3.8/dist-packages (from google-auth<3,>=1.6.3->tensorboard<2.10,>=2.9->tensorflow==2.9.2->aimodelshare) (0.2.8)\n",
            "Requirement already satisfied: rsa<5,>=3.1.4 in /usr/local/lib/python3.8/dist-packages (from google-auth<3,>=1.6.3->tensorboard<2.10,>=2.9->tensorflow==2.9.2->aimodelshare) (4.9)\n",
            "Requirement already satisfied: cachetools<6.0,>=2.0.0 in /usr/local/lib/python3.8/dist-packages (from google-auth<3,>=1.6.3->tensorboard<2.10,>=2.9->tensorflow==2.9.2->aimodelshare) (5.3.0)\n",
            "Requirement already satisfied: requests-oauthlib>=0.7.0 in /usr/local/lib/python3.8/dist-packages (from google-auth-oauthlib<0.5,>=0.4.1->tensorboard<2.10,>=2.9->tensorflow==2.9.2->aimodelshare) (1.3.1)\n",
            "Requirement already satisfied: importlib-metadata>=4.4 in /usr/local/lib/python3.8/dist-packages (from markdown>=2.6.8->tensorboard<2.10,>=2.9->tensorflow==2.9.2->aimodelshare) (6.0.0)\n",
            "Requirement already satisfied: pyasn1<0.5.0,>=0.4.6 in /usr/local/lib/python3.8/dist-packages (from pyasn1-modules>=0.2.1->google-auth<3,>=1.6.3->tensorboard<2.10,>=2.9->tensorflow==2.9.2->aimodelshare) (0.4.8)\n",
            "Requirement already satisfied: oauthlib>=3.0.0 in /usr/local/lib/python3.8/dist-packages (from requests-oauthlib>=0.7.0->google-auth-oauthlib<0.5,>=0.4.1->tensorboard<2.10,>=2.9->tensorflow==2.9.2->aimodelshare) (3.2.2)\n",
            "Building wheels for collected packages: Pympler, wget, fire\n",
            "  Building wheel for Pympler (setup.py) ... \u001b[?25l\u001b[?25hdone\n",
            "  Created wheel for Pympler: filename=Pympler-0.9-py3-none-any.whl size=164822 sha256=6621ba225d9b281c080004cf78e465cf873c141b90ba70122fcd3a73d89991ce\n",
            "  Stored in directory: /root/.cache/pip/wheels/24/6f/0b/da9f81234859a8741aaea3afcc6ae2daf0efb67e7ff2d3686c\n",
            "  Building wheel for wget (setup.py) ... \u001b[?25l\u001b[?25hdone\n",
            "  Created wheel for wget: filename=wget-3.2-py3-none-any.whl size=9674 sha256=dacca163ba187637449a1baa0db70643ae489eff74b448a72e6b94fe47a115f2\n",
            "  Stored in directory: /root/.cache/pip/wheels/bd/a8/c3/3cf2c14a1837a4e04bd98631724e81f33f462d86a1d895fae0\n",
            "  Building wheel for fire (setup.py) ... \u001b[?25l\u001b[?25hdone\n",
            "  Created wheel for fire: filename=fire-0.5.0-py2.py3-none-any.whl size=116949 sha256=0aa0eaaba88fd0814ef090390628ebb306002f179547004772509baf4bc4bf45\n",
            "  Stored in directory: /root/.cache/pip/wheels/5b/eb/43/7295e71293b218ddfd627f935229bf54af9018add7fbb5aac6\n",
            "Successfully built Pympler wget fire\n",
            "Installing collected packages: wget, Pympler, websocket-client, urllib3, shortuuid, PyJWT, psutil, onnx, jmespath, importlib-resources, humanfriendly, fire, scikit-learn, onnxconverter-common, coloredlogs, botocore, tf2onnx, skl2onnx, s3transfer, onnxruntime, keras2onnx, docker, onnxmltools, boto3, aimodelshare\n",
            "  Attempting uninstall: urllib3\n",
            "    Found existing installation: urllib3 1.24.3\n",
            "    Uninstalling urllib3-1.24.3:\n",
            "      Successfully uninstalled urllib3-1.24.3\n",
            "  Attempting uninstall: psutil\n",
            "    Found existing installation: psutil 5.4.8\n",
            "    Uninstalling psutil-5.4.8:\n",
            "      Successfully uninstalled psutil-5.4.8\n",
            "  Attempting uninstall: importlib-resources\n",
            "    Found existing installation: importlib-resources 5.10.2\n",
            "    Uninstalling importlib-resources-5.10.2:\n",
            "      Successfully uninstalled importlib-resources-5.10.2\n",
            "  Attempting uninstall: scikit-learn\n",
            "    Found existing installation: scikit-learn 1.0.2\n",
            "    Uninstalling scikit-learn-1.0.2:\n",
            "      Successfully uninstalled scikit-learn-1.0.2\n",
            "\u001b[31mERROR: pip's dependency resolver does not currently take into account all the packages that are installed. This behaviour is the source of the following dependency conflicts.\n",
            "yellowbrick 1.5 requires scikit-learn>=1.0.0, but you have scikit-learn 0.24.2 which is incompatible.\u001b[0m\u001b[31m\n",
            "\u001b[0mSuccessfully installed PyJWT-2.6.0 Pympler-0.9 aimodelshare-0.0.178 boto3-1.21.20 botocore-1.24.20 coloredlogs-15.0.1 docker-5.0.0 fire-0.5.0 humanfriendly-10.0 importlib-resources-5.10.0 jmespath-0.10.0 keras2onnx-1.7.0 onnx-1.12.0 onnxconverter-common-1.13.0 onnxmltools-1.11.1 onnxruntime-1.13.1 psutil-5.9.4 s3transfer-0.5.2 scikit-learn-0.24.2 shortuuid-1.0.11 skl2onnx-1.13 tf2onnx-1.13.0 urllib3-1.26.14 websocket-client-1.5.1 wget-3.2\n"
          ]
        }
      ],
      "source": [
        "#install aimodelshare library\n",
        "! pip install aimodelshare --upgrade"
      ]
    },
    {
      "cell_type": "code",
      "execution_count": 3,
      "metadata": {
        "colab": {
          "base_uri": "https://localhost:8080/",
          "height": 376
        },
        "id": "jT0qFCZFNzHq",
        "outputId": "1a8155c7-05bf-4fbc-8f06-75b30ba04022"
      },
      "outputs": [
        {
          "data": {
            "text/html": [
              "\n",
              "  <div id=\"df-09fe2fb7-54bb-4def-901f-a83b228602d7\">\n",
              "    <div class=\"colab-df-container\">\n",
              "      <div>\n",
              "<style scoped>\n",
              "    .dataframe tbody tr th:only-of-type {\n",
              "        vertical-align: middle;\n",
              "    }\n",
              "\n",
              "    .dataframe tbody tr th {\n",
              "        vertical-align: top;\n",
              "    }\n",
              "\n",
              "    .dataframe thead th {\n",
              "        text-align: right;\n",
              "    }\n",
              "</style>\n",
              "<table border=\"1\" class=\"dataframe\">\n",
              "  <thead>\n",
              "    <tr style=\"text-align: right;\">\n",
              "      <th></th>\n",
              "      <th>Country or region</th>\n",
              "      <th>GDP per capita</th>\n",
              "      <th>Social support</th>\n",
              "      <th>Healthy life expectancy</th>\n",
              "      <th>Freedom to make life choices</th>\n",
              "      <th>Generosity</th>\n",
              "      <th>Perceptions of corruption</th>\n",
              "      <th>name</th>\n",
              "      <th>region</th>\n",
              "      <th>sub-region</th>\n",
              "      <th>Terrorist_attacks</th>\n",
              "    </tr>\n",
              "  </thead>\n",
              "  <tbody>\n",
              "    <tr>\n",
              "      <th>0</th>\n",
              "      <td>Peru</td>\n",
              "      <td>0.960</td>\n",
              "      <td>1.274</td>\n",
              "      <td>0.854</td>\n",
              "      <td>0.455</td>\n",
              "      <td>0.083</td>\n",
              "      <td>0.027</td>\n",
              "      <td>Peru</td>\n",
              "      <td>Americas</td>\n",
              "      <td>Latin America and the Caribbean</td>\n",
              "      <td>18.000000</td>\n",
              "    </tr>\n",
              "    <tr>\n",
              "      <th>1</th>\n",
              "      <td>Nicaragua</td>\n",
              "      <td>0.694</td>\n",
              "      <td>1.325</td>\n",
              "      <td>0.835</td>\n",
              "      <td>0.435</td>\n",
              "      <td>0.200</td>\n",
              "      <td>0.127</td>\n",
              "      <td>Nicaragua</td>\n",
              "      <td>Americas</td>\n",
              "      <td>Latin America and the Caribbean</td>\n",
              "      <td>125.611111</td>\n",
              "    </tr>\n",
              "    <tr>\n",
              "      <th>2</th>\n",
              "      <td>Greece</td>\n",
              "      <td>1.181</td>\n",
              "      <td>1.156</td>\n",
              "      <td>0.999</td>\n",
              "      <td>0.067</td>\n",
              "      <td>0.000</td>\n",
              "      <td>0.034</td>\n",
              "      <td>Greece</td>\n",
              "      <td>Europe</td>\n",
              "      <td>Southern Europe</td>\n",
              "      <td>112.000000</td>\n",
              "    </tr>\n",
              "    <tr>\n",
              "      <th>3</th>\n",
              "      <td>Qatar</td>\n",
              "      <td>1.684</td>\n",
              "      <td>1.313</td>\n",
              "      <td>0.871</td>\n",
              "      <td>0.555</td>\n",
              "      <td>0.220</td>\n",
              "      <td>0.167</td>\n",
              "      <td>Qatar</td>\n",
              "      <td>Asia</td>\n",
              "      <td>Western Asia</td>\n",
              "      <td>57.333333</td>\n",
              "    </tr>\n",
              "    <tr>\n",
              "      <th>4</th>\n",
              "      <td>Uzbekistan</td>\n",
              "      <td>0.745</td>\n",
              "      <td>1.529</td>\n",
              "      <td>0.756</td>\n",
              "      <td>0.631</td>\n",
              "      <td>0.322</td>\n",
              "      <td>0.240</td>\n",
              "      <td>Uzbekistan</td>\n",
              "      <td>Asia</td>\n",
              "      <td>Central Asia</td>\n",
              "      <td>125.611111</td>\n",
              "    </tr>\n",
              "  </tbody>\n",
              "</table>\n",
              "</div>\n",
              "      <button class=\"colab-df-convert\" onclick=\"convertToInteractive('df-09fe2fb7-54bb-4def-901f-a83b228602d7')\"\n",
              "              title=\"Convert this dataframe to an interactive table.\"\n",
              "              style=\"display:none;\">\n",
              "        \n",
              "  <svg xmlns=\"http://www.w3.org/2000/svg\" height=\"24px\"viewBox=\"0 0 24 24\"\n",
              "       width=\"24px\">\n",
              "    <path d=\"M0 0h24v24H0V0z\" fill=\"none\"/>\n",
              "    <path d=\"M18.56 5.44l.94 2.06.94-2.06 2.06-.94-2.06-.94-.94-2.06-.94 2.06-2.06.94zm-11 1L8.5 8.5l.94-2.06 2.06-.94-2.06-.94L8.5 2.5l-.94 2.06-2.06.94zm10 10l.94 2.06.94-2.06 2.06-.94-2.06-.94-.94-2.06-.94 2.06-2.06.94z\"/><path d=\"M17.41 7.96l-1.37-1.37c-.4-.4-.92-.59-1.43-.59-.52 0-1.04.2-1.43.59L10.3 9.45l-7.72 7.72c-.78.78-.78 2.05 0 2.83L4 21.41c.39.39.9.59 1.41.59.51 0 1.02-.2 1.41-.59l7.78-7.78 2.81-2.81c.8-.78.8-2.07 0-2.86zM5.41 20L4 18.59l7.72-7.72 1.47 1.35L5.41 20z\"/>\n",
              "  </svg>\n",
              "      </button>\n",
              "      \n",
              "  <style>\n",
              "    .colab-df-container {\n",
              "      display:flex;\n",
              "      flex-wrap:wrap;\n",
              "      gap: 12px;\n",
              "    }\n",
              "\n",
              "    .colab-df-convert {\n",
              "      background-color: #E8F0FE;\n",
              "      border: none;\n",
              "      border-radius: 50%;\n",
              "      cursor: pointer;\n",
              "      display: none;\n",
              "      fill: #1967D2;\n",
              "      height: 32px;\n",
              "      padding: 0 0 0 0;\n",
              "      width: 32px;\n",
              "    }\n",
              "\n",
              "    .colab-df-convert:hover {\n",
              "      background-color: #E2EBFA;\n",
              "      box-shadow: 0px 1px 2px rgba(60, 64, 67, 0.3), 0px 1px 3px 1px rgba(60, 64, 67, 0.15);\n",
              "      fill: #174EA6;\n",
              "    }\n",
              "\n",
              "    [theme=dark] .colab-df-convert {\n",
              "      background-color: #3B4455;\n",
              "      fill: #D2E3FC;\n",
              "    }\n",
              "\n",
              "    [theme=dark] .colab-df-convert:hover {\n",
              "      background-color: #434B5C;\n",
              "      box-shadow: 0px 1px 3px 1px rgba(0, 0, 0, 0.15);\n",
              "      filter: drop-shadow(0px 1px 2px rgba(0, 0, 0, 0.3));\n",
              "      fill: #FFFFFF;\n",
              "    }\n",
              "  </style>\n",
              "\n",
              "      <script>\n",
              "        const buttonEl =\n",
              "          document.querySelector('#df-09fe2fb7-54bb-4def-901f-a83b228602d7 button.colab-df-convert');\n",
              "        buttonEl.style.display =\n",
              "          google.colab.kernel.accessAllowed ? 'block' : 'none';\n",
              "\n",
              "        async function convertToInteractive(key) {\n",
              "          const element = document.querySelector('#df-09fe2fb7-54bb-4def-901f-a83b228602d7');\n",
              "          const dataTable =\n",
              "            await google.colab.kernel.invokeFunction('convertToInteractive',\n",
              "                                                     [key], {});\n",
              "          if (!dataTable) return;\n",
              "\n",
              "          const docLinkHtml = 'Like what you see? Visit the ' +\n",
              "            '<a target=\"_blank\" href=https://colab.research.google.com/notebooks/data_table.ipynb>data table notebook</a>'\n",
              "            + ' to learn more about interactive tables.';\n",
              "          element.innerHTML = '';\n",
              "          dataTable['output_type'] = 'display_data';\n",
              "          await google.colab.output.renderOutput(dataTable, element);\n",
              "          const docLink = document.createElement('div');\n",
              "          docLink.innerHTML = docLinkHtml;\n",
              "          element.appendChild(docLink);\n",
              "        }\n",
              "      </script>\n",
              "    </div>\n",
              "  </div>\n",
              "  "
            ],
            "text/plain": [
              "  Country or region  GDP per capita  Social support  Healthy life expectancy  \\\n",
              "0              Peru           0.960           1.274                    0.854   \n",
              "1         Nicaragua           0.694           1.325                    0.835   \n",
              "2            Greece           1.181           1.156                    0.999   \n",
              "3             Qatar           1.684           1.313                    0.871   \n",
              "4        Uzbekistan           0.745           1.529                    0.756   \n",
              "\n",
              "   Freedom to make life choices  Generosity  Perceptions of corruption  \\\n",
              "0                         0.455       0.083                      0.027   \n",
              "1                         0.435       0.200                      0.127   \n",
              "2                         0.067       0.000                      0.034   \n",
              "3                         0.555       0.220                      0.167   \n",
              "4                         0.631       0.322                      0.240   \n",
              "\n",
              "         name    region                       sub-region  Terrorist_attacks  \n",
              "0        Peru  Americas  Latin America and the Caribbean          18.000000  \n",
              "1   Nicaragua  Americas  Latin America and the Caribbean         125.611111  \n",
              "2      Greece    Europe                  Southern Europe         112.000000  \n",
              "3       Qatar      Asia                     Western Asia          57.333333  \n",
              "4  Uzbekistan      Asia                     Central Asia         125.611111  "
            ]
          },
          "execution_count": 3,
          "metadata": {},
          "output_type": "execute_result"
        }
      ],
      "source": [
        "# Load data\n",
        "import pandas as pd\n",
        "X_train = pd.read_csv('X_train.csv')\n",
        "X_test = pd.read_csv('X_test.csv')\n",
        "y_train = pd.read_csv('y_train.csv')\n",
        "y_train_labels = y_train.idxmax(axis=1)\n",
        "\n",
        "X_train.head()"
      ]
    },
    {
      "cell_type": "markdown",
      "metadata": {
        "id": "d9LFmDRIlwsF"
      },
      "source": [
        "## Explore bivariate results"
      ]
    },
    {
      "cell_type": "code",
      "execution_count": 4,
      "metadata": {
        "id": "XSNIj3firG7V"
      },
      "outputs": [],
      "source": [
        "temp = y_train.idxmax(1)\n",
        "temp = pd.Series(temp)\n",
        "a = pd.DataFrame({ 'happiness': temp})\n",
        "b = a.join(X_train)"
      ]
    },
    {
      "cell_type": "code",
      "execution_count": 5,
      "metadata": {
        "colab": {
          "base_uri": "https://localhost:8080/",
          "height": 1000
        },
        "id": "sEIHet3-ppG6",
        "outputId": "2d3b1320-e69c-450a-b81e-a8ac1b684d18"
      },
      "outputs": [
        {
          "data": {
            "text/plain": [
              "<seaborn.axisgrid.FacetGrid at 0x7f84dbe58160>"
            ]
          },
          "execution_count": 5,
          "metadata": {},
          "output_type": "execute_result"
        },
        {
          "data": {
            "image/png": "[encoded data removed]",
            "text/plain": [
              "<Figure size 360x360 with 1 Axes>"
            ]
          },
          "metadata": {
            "needs_background": "light"
          },
          "output_type": "display_data"
        },
        {
          "data": {
            "image/png": "[encoded data removed]",
            "text/plain": [
              "<Figure size 360x360 with 1 Axes>"
            ]
          },
          "metadata": {
            "needs_background": "light"
          },
          "output_type": "display_data"
        },
        {
          "data": {
            "image/png": "[encoded data removed]",
            "text/plain": [
              "<Figure size 360x360 with 1 Axes>"
            ]
          },
          "metadata": {
            "needs_background": "light"
          },
          "output_type": "display_data"
        }
      ],
      "source": [
        "import matplotlib as mpl \n",
        "from matplotlib import pyplot as plt \n",
        "import seaborn as sns\n",
        "\n",
        "sns.catplot(data=b, x=\"happiness\", y=\"Healthy life expectancy\").set(title = 'Healthy life expectancy vs. happiness')\n",
        "sns.catplot(data=b, x=\"happiness\", y=\"GDP per capita\").set(title = 'GDP per capita vs. happiness')\n",
        "sns.catplot(data=b, x=\"happiness\", y=\"Social support\").set(title = 'Social support vs. happiness')"
      ]
    },
    {
      "cell_type": "markdown",
      "metadata": {
        "id": "WDFDS-LaALGK"
      },
      "source": [
        "#### Based on the graphs, it appears that there is a general positive correlation between the three variables and the happiness indcator. That is to say, high healthy life expectancy, gdp per capita, and social support are correlated to higher scores of happiness. This trend is exceptionally true for social support, as very high happiness has the highest cohort of social support, while very low happiness has the lowest range of social support. "
      ]
    },
    {
      "cell_type": "markdown",
      "metadata": {
        "id": "gEzPoXPj3V7u"
      },
      "source": [
        "## Preprocess data using Sklearn Column Transformer/ Write and Save Preprocessor function\n"
      ]
    },
    {
      "cell_type": "code",
      "execution_count": 6,
      "metadata": {
        "id": "16QV9Y9TC3B3"
      },
      "outputs": [],
      "source": [
        "from sklearn.preprocessing import StandardScaler, OneHotEncoder\n",
        "from sklearn.compose import ColumnTransformer, make_column_transformer\n",
        "from sklearn.pipeline import Pipeline\n",
        "from sklearn.impute import SimpleImputer\n",
        "from sklearn.preprocessing import StandardScaler, OneHotEncoder\n",
        "\n",
        "# We create the preprocessing pipelines for both numeric and categorical data.\n",
        "\n",
        "numeric_features = X_train.drop(['Country or region', 'name', 'region', 'sub-region'], axis=1)\n",
        "numeric_features=numeric_features.columns.tolist()\n",
        "\n",
        "numeric_transformer = Pipeline(steps=[\n",
        "    ('imputer', SimpleImputer(strategy='median')),\n",
        "    ('scaler', StandardScaler())])\n",
        "\n",
        "categorical_features = ['region', 'sub-region']\n",
        "\n",
        "#Replacing missing values with Modal value and then one hot encoding.\n",
        "categorical_transformer = Pipeline(steps=[\n",
        "    ('imputer', SimpleImputer(strategy='most_frequent')),\n",
        "    ('onehot', OneHotEncoder(handle_unknown='ignore'))])\n",
        "\n",
        "# final preprocessor object set up with ColumnTransformer\n",
        "preprocessor = ColumnTransformer(\n",
        "    transformers=[\n",
        "        ('num', numeric_transformer, numeric_features),\n",
        "        ('cat', categorical_transformer, categorical_features)])\n",
        "\n",
        "#Fit your preprocessor object\n",
        "preprocess=preprocessor.fit(X_train) "
      ]
    },
    {
      "cell_type": "code",
      "execution_count": 7,
      "metadata": {
        "id": "S_PaNOG0SUIk"
      },
      "outputs": [],
      "source": [
        "# Write function to transform data with preprocessor\n",
        "\n",
        "def preprocessor(data):\n",
        "    data.drop(['Country or region', 'name'], axis=1)\n",
        "    preprocessed_data=preprocess.transform(data)\n",
        "    return preprocessed_data"
      ]
    },
    {
      "cell_type": "code",
      "execution_count": 8,
      "metadata": {
        "colab": {
          "base_uri": "https://localhost:8080/"
        },
        "id": "a1IPy9xvSWBp",
        "outputId": "23a7e57e-1ca8-4e3d-bff1-3369ea31aad1"
      },
      "outputs": [
        {
          "data": {
            "text/plain": [
              "(88, 26)"
            ]
          },
          "execution_count": 8,
          "metadata": {},
          "output_type": "execute_result"
        }
      ],
      "source": [
        "# check shape of X data after preprocessing it using our new function\n",
        "preprocessor(X_train).shape"
      ]
    },
    {
      "cell_type": "markdown",
      "metadata": {
        "id": "X52kECL43b-O"
      },
      "source": [
        "## Examine features that predict happiness categories using one or more models that allow for automatic feature selection\n"
      ]
    },
    {
      "cell_type": "code",
      "execution_count": 10,
      "metadata": {
        "id": "fts7AyToIFdS"
      },
      "outputs": [],
      "source": [
        "from sklearn.ensemble import RandomForestClassifier\n",
        "from sklearn.model_selection import GridSearchCV\n",
        "import numpy as np"
      ]
    },
    {
      "cell_type": "code",
      "execution_count": 11,
      "metadata": {
        "colab": {
          "base_uri": "https://localhost:8080/"
        },
        "id": "-CSn0Sp4Hm9h",
        "outputId": "f067c04f-501b-46aa-dc6d-3e0bc66bedef"
      },
      "outputs": [
        {
          "data": {
            "text/plain": [
              "array([0.20066256, 0.14270544, 0.1490985 , 0.09500828, 0.08248082,\n",
              "       0.08985083, 0.07867136, 0.02523329, 0.01021048, 0.01221925,\n",
              "       0.0126892 , 0.00068143, 0.00022765, 0.00298376, 0.00206202,\n",
              "       0.00259294, 0.01097618, 0.00653344, 0.00067269, 0.00444154,\n",
              "       0.00667448, 0.00766852, 0.00820525, 0.03094657, 0.00818005,\n",
              "       0.00832346])"
            ]
          },
          "execution_count": 11,
          "metadata": {},
          "output_type": "execute_result"
        }
      ],
      "source": [
        "model = RandomForestClassifier(n_estimators=300, max_depth=5)\n",
        "model.fit(preprocessor(X_train), y_train_labels)\n",
        "model.feature_importances_"
      ]
    },
    {
      "cell_type": "markdown",
      "metadata": {
        "id": "VUGBpAaeYEgt"
      },
      "source": [
        "#### based on the results, it seems as the first three features play a crucial role at predicting happiness, and the features coincide with the variables that were selected for the bivariate visualizations. Together, they suggest that GDP, life expectency, and social support are important."
      ]
    },
    {
      "cell_type": "markdown",
      "metadata": {
        "id": "6boHghgyZC2h"
      },
      "source": [
        "## Experiment with different prediction models to try to predict World Happiness well (Fit and compare, at minimum, three models)"
      ]
    },
    {
      "cell_type": "markdown",
      "metadata": {
        "id": "WggLZnm5DVDZ"
      },
      "source": [
        "### My test model"
      ]
    },
    {
      "cell_type": "code",
      "execution_count": 12,
      "metadata": {
        "colab": {
          "base_uri": "https://localhost:8080/"
        },
        "id": "CuolR_VacrgW",
        "outputId": "cb595a15-a28b-4bbc-b81a-b2a9197540e9"
      },
      "outputs": [
        {
          "data": {
            "text/plain": [
              "0.9204545454545454"
            ]
          },
          "execution_count": 12,
          "metadata": {},
          "output_type": "execute_result"
        }
      ],
      "source": [
        "modelt = RandomForestClassifier(n_estimators=100, max_depth=5,min_samples_leaf = 1, min_samples_split = 2)\n",
        "modelt.fit(preprocessor(X_train), y_train_labels)\n",
        "modelt.score(preprocessor(X_train), y_train_labels)"
      ]
    },
    {
      "cell_type": "code",
      "execution_count": 13,
      "metadata": {
        "id": "woQc5Q37dZg7"
      },
      "outputs": [],
      "source": [
        "# Save sklearn model to local ONNX file\n",
        "from aimodelshare.aimsonnx import model_to_onnx\n",
        "\n",
        "# Check how many preprocessed input features are there?\n",
        "from skl2onnx.common.data_types import FloatTensorType\n",
        "\n",
        "feature_count=preprocessor(X_test).shape[1] #Get count of preprocessed features\n",
        "initial_type = [('float_input', FloatTensorType([None, feature_count]))]  #Insert correct number of preprocessed features\n",
        "\n",
        "onnx_model = model_to_onnx(modelt, framework='sklearn',\n",
        "                          initial_types=initial_type,\n",
        "                          transfer_learning=False,\n",
        "                          deep_learning=False)\n",
        "\n",
        "with open(\"model.onnx\", \"wb\") as f:\n",
        "    f.write(onnx_model.SerializeToString())"
      ]
    },
    {
      "cell_type": "code",
      "execution_count": 14,
      "metadata": {
        "colab": {
          "base_uri": "https://localhost:8080/"
        },
        "id": "FmGzr_Gedgnk",
        "outputId": "9d221bce-8569-43de-f3ec-15745885883d"
      },
      "outputs": [
        {
          "name": "stdout",
          "output_type": "stream",
          "text": [
            "Your preprocessor is now saved to 'preprocessor.zip'\n"
          ]
        }
      ],
      "source": [
        "import aimodelshare as ai\n",
        "ai.export_preprocessor(preprocessor,\"\") "
      ]
    },
    {
      "cell_type": "code",
      "execution_count": 15,
      "metadata": {
        "colab": {
          "base_uri": "https://localhost:8080/"
        },
        "id": "YXw_jna0dj-f",
        "outputId": "22eac219-b9a0-4918-d53e-7b6891adaf5d"
      },
      "outputs": [
        {
          "name": "stdout",
          "output_type": "stream",
          "text": [
            "AI Modelshare Username:··········\n",
            "AI Modelshare Password:··········\n",
            "AI Model Share login credentials set successfully.\n"
          ]
        }
      ],
      "source": [
        "#Set credentials using modelshare.org username/password\n",
        "\n",
        "from aimodelshare.aws import set_credentials\n",
        "\n",
        "#This is the unique rest api that powers this World Happiness Classification Playground -- make sure to update the apiurl for new competition deployments\n",
        "apiurl=\"https://e2w6gh3id1.execute-api.us-east-2.amazonaws.com/prod/m\"\n",
        "\n",
        "set_credentials(apiurl=apiurl)"
      ]
    },
    {
      "cell_type": "code",
      "execution_count": 16,
      "metadata": {
        "id": "XY7FYTpLdnpo"
      },
      "outputs": [],
      "source": [
        "#Instantiate Competition\n",
        "import aimodelshare as ai\n",
        "mycompetition= ai.Competition(apiurl)"
      ]
    },
    {
      "cell_type": "code",
      "execution_count": null,
      "metadata": {
        "id": "0FlKgTEMdvcj"
      },
      "outputs": [],
      "source": [
        "#Submit Model test: \n",
        "prediction_labels = modelt.predict(preprocessor(X_test))\n",
        "mycompetition.submit_model(model_filepath = \"model.onnx\",\n",
        "                                 preprocessor_filepath=\"preprocessor.zip\",\n",
        "                                 prediction_submission=prediction_labels)"
      ]
    },
    {
      "cell_type": "markdown",
      "metadata": {
        "id": "BTgzQWIqDcss"
      },
      "source": [
        "### My first model"
      ]
    },
    {
      "cell_type": "code",
      "execution_count": 17,
      "metadata": {
        "colab": {
          "base_uri": "https://localhost:8080/"
        },
        "id": "QLgacHbpGCMj",
        "outputId": "4f6b6a84-b69d-4c8f-fbd7-3c6668f28d84"
      },
      "outputs": [
        {
          "name": "stdout",
          "output_type": "stream",
          "text": [
            "best mean cross-validation score: 0.669\n",
            "best parameters: {'max_depth': 5, 'n_estimators': 100}\n"
          ]
        }
      ],
      "source": [
        "# Submit the first model using GridSearchCV\n",
        "\n",
        "param_grid = {'n_estimators': np.arange(100, 500, 100),'max_depth':[1, 5, 1]} #np.arange creates sequence of numbers for each k value\n",
        "\n",
        "rfmodel = GridSearchCV(RandomForestClassifier(), param_grid=param_grid, cv=10)\n",
        "\n",
        "#use meta model methods to fit score and predict model:\n",
        "a = rfmodel.fit(preprocessor(X_train), y_train_labels)\n",
        "#extract best score and parameter by calling objects \"best_score_\" and \"best_params_\"\n",
        "print(\"best mean cross-validation score: {:.3f}\".format(a.best_score_))\n",
        "print(\"best parameters: {}\".format(a.best_params_))"
      ]
    },
    {
      "cell_type": "code",
      "execution_count": 18,
      "metadata": {
        "colab": {
          "base_uri": "https://localhost:8080/"
        },
        "id": "Zqz-TxZfXMmE",
        "outputId": "601db67d-dbc2-4e51-f5ee-d15eaf56ed1f"
      },
      "outputs": [
        {
          "data": {
            "text/plain": [
              "0.9545454545454546"
            ]
          },
          "execution_count": 18,
          "metadata": {},
          "output_type": "execute_result"
        }
      ],
      "source": [
        "model = RandomForestClassifier(n_estimators=300, max_depth=5)\n",
        "model.fit(preprocessor(X_train), y_train_labels)\n",
        "model.score(preprocessor(X_train), y_train_labels)"
      ]
    },
    {
      "cell_type": "code",
      "execution_count": 19,
      "metadata": {
        "colab": {
          "base_uri": "https://localhost:8080/"
        },
        "id": "NCbBf8j9ClYl",
        "outputId": "a9317ec1-c348-42f9-98bb-d9d5bb7e9c5e"
      },
      "outputs": [
        {
          "data": {
            "text/plain": [
              "0.8522727272727273"
            ]
          },
          "execution_count": 19,
          "metadata": {},
          "output_type": "execute_result"
        }
      ],
      "source": [
        "from sklearn.ensemble import RandomForestClassifier\n",
        "\n",
        "model = RandomForestClassifier(n_estimators=300, max_depth=3)\n",
        "model.fit(preprocessor(X_train), y_train_labels) # Fitting to the training set.\n",
        "model.score(preprocessor(X_train), y_train_labels) # Fit score, 0-1 scale."
      ]
    },
    {
      "cell_type": "code",
      "execution_count": null,
      "metadata": {
        "id": "pEhvnRiQDlY5"
      },
      "outputs": [],
      "source": [
        "# Save sklearn model to local ONNX file\n",
        "from aimodelshare.aimsonnx import model_to_onnx\n",
        "\n",
        "# Check how many preprocessed input features are there?\n",
        "from skl2onnx.common.data_types import FloatTensorType\n",
        "\n",
        "feature_count=preprocessor(X_test).shape[1] #Get count of preprocessed features\n",
        "initial_type = [('float_input', FloatTensorType([None, feature_count]))]  #Insert correct number of preprocessed features\n",
        "\n",
        "onnx_model = model_to_onnx(model, framework='sklearn',\n",
        "                          initial_types=initial_type,\n",
        "                          transfer_learning=False,\n",
        "                          deep_learning=False)\n",
        "\n",
        "with open(\"model.onnx\", \"wb\") as f:\n",
        "    f.write(onnx_model.SerializeToString())"
      ]
    },
    {
      "cell_type": "code",
      "execution_count": null,
      "metadata": {
        "id": "4VGacc0LDaMA"
      },
      "outputs": [],
      "source": [
        "import aimodelshare as ai\n",
        "ai.export_preprocessor(preprocessor,\"\") "
      ]
    },
    {
      "cell_type": "code",
      "execution_count": null,
      "metadata": {
        "id": "RtgkM02MDpkO"
      },
      "outputs": [],
      "source": [
        "#Set credentials using modelshare.org username/password\n",
        "\n",
        "from aimodelshare.aws import set_credentials\n",
        "\n",
        "#This is the unique rest api that powers this World Happiness Classification Playground -- make sure to update the apiurl for new competition deployments\n",
        "apiurl=\"https://e2w6gh3id1.execute-api.us-east-2.amazonaws.com/prod/m\"\n",
        "\n",
        "set_credentials(apiurl=apiurl)"
      ]
    },
    {
      "cell_type": "code",
      "execution_count": null,
      "metadata": {
        "id": "fKNGSww8EGgi"
      },
      "outputs": [],
      "source": [
        "#Instantiate Competition\n",
        "import aimodelshare as ai\n",
        "mycompetition= ai.Competition(apiurl)"
      ]
    },
    {
      "cell_type": "code",
      "execution_count": null,
      "metadata": {
        "id": "_Ql4wksyEUnP"
      },
      "outputs": [],
      "source": [
        "#Submit Model 1: \n",
        "\n",
        "#-- Generate predicted values (Model 1)\n",
        "prediction_labels = model.predict(preprocessor(X_test))\n",
        "\n",
        "# Submit Model 1 to Competition Leaderboard\n",
        "mycompetition.submit_model(model_filepath = \"model.onnx\",\n",
        "                                 preprocessor_filepath=\"preprocessor.zip\",\n",
        "                                 prediction_submission=prediction_labels)"
      ]
    },
    {
      "cell_type": "markdown",
      "metadata": {
        "id": "yvnWgyAODogR"
      },
      "source": [
        "### My second model"
      ]
    },
    {
      "cell_type": "code",
      "execution_count": 20,
      "metadata": {
        "id": "hA9gNWXeb0UT"
      },
      "outputs": [],
      "source": [
        "from sklearn.neighbors import KNeighborsClassifier\n",
        "from sklearn.svm import SVC\n",
        "from sklearn.ensemble import RandomForestClassifier\n",
        "from sklearn.ensemble import BaggingClassifier\n",
        "from sklearn.ensemble import GradientBoostingClassifier"
      ]
    },
    {
      "cell_type": "code",
      "execution_count": 22,
      "metadata": {
        "id": "4NxknLpsdhUl"
      },
      "outputs": [],
      "source": [
        "import warnings\n",
        "warnings.filterwarnings(\"ignore\")"
      ]
    },
    {
      "cell_type": "code",
      "execution_count": 23,
      "metadata": {
        "colab": {
          "base_uri": "https://localhost:8080/"
        },
        "id": "FgSs5PAtPCZH",
        "outputId": "460f2dc7-10e0-4d9b-8ad2-044acc6b506b"
      },
      "outputs": [
        {
          "name": "stdout",
          "output_type": "stream",
          "text": [
            "best mean cross-validation score: 0.603\n",
            "best parameters: {'learning_rate': 1, 'max_depth': 1, 'n_estimators': 10}\n"
          ]
        }
      ],
      "source": [
        "# Submit Model 2 to Competition Leaderboard\n",
        "param_grid = {'n_estimators': np.arange(0, 100, 10),'max_depth':[1, 5, 1],'learning_rate':[0,1,0.2],'max_depth':[0,1,0.2]}\n",
        "\n",
        "gbmodel = GridSearchCV(GradientBoostingClassifier(), param_grid = param_grid).fit(preprocessor(X_train), y_train_labels)\n",
        "\n",
        "print(\"best mean cross-validation score: {:.3f}\".format(gbmodel.best_score_))\n",
        "print(\"best parameters: {}\".format(gbmodel.best_params_))\n"
      ]
    },
    {
      "cell_type": "code",
      "execution_count": 24,
      "metadata": {
        "colab": {
          "base_uri": "https://localhost:8080/"
        },
        "id": "jqL9wr5FUN6d",
        "outputId": "532166cf-a81c-4395-8f20-987f0d051c3c"
      },
      "outputs": [
        {
          "data": {
            "text/plain": [
              "0.9772727272727273"
            ]
          },
          "execution_count": 24,
          "metadata": {},
          "output_type": "execute_result"
        }
      ],
      "source": [
        "model2 = GradientBoostingClassifier(n_estimators=10, learning_rate=1.0,\n",
        "    max_depth=1, random_state=0)\n",
        "model2.fit(preprocessor(X_train), y_train_labels)\n",
        "model2.score(preprocessor(X_train), y_train_labels)"
      ]
    },
    {
      "cell_type": "code",
      "execution_count": null,
      "metadata": {
        "id": "jdcuBJfGcEUk"
      },
      "outputs": [],
      "source": [
        "from aimodelshare.aimsonnx import model_to_onnx\n",
        "feature_count=preprocessor(X_test).shape[1] #Get count of preprocessed features\n",
        "initial_type = [('float_input', FloatTensorType([None, feature_count]))]  # Insert correct number of preprocessed features\n",
        "\n",
        "onnx_model = model_to_onnx(model2, framework='sklearn',\n",
        "                          initial_types=initial_type,\n",
        "                          transfer_learning=False,\n",
        "                          deep_learning=False)\n",
        "\n",
        "with open(\"model.onnx\", \"wb\") as f:\n",
        "    f.write(onnx_model.SerializeToString())\n",
        "\n",
        "#-- Generate predicted values \n",
        "prediction_labels = model2.predict(preprocessor(X_test))\n",
        "\n",
        "# Submit model to Competition Leaderboard\n",
        "mycompetition.submit_model(model_filepath = \"model.onnx\",\n",
        "                                 preprocessor_filepath=\"preprocessor.zip\",\n",
        "                                 prediction_submission=prediction_labels)\n"
      ]
    },
    {
      "cell_type": "markdown",
      "metadata": {
        "id": "Gp7YctW3Drqd"
      },
      "source": [
        "### My third model"
      ]
    },
    {
      "cell_type": "code",
      "execution_count": 25,
      "metadata": {
        "colab": {
          "base_uri": "https://localhost:8080/"
        },
        "id": "3eSyr547ch4Y",
        "outputId": "7ca5435d-1560-4855-c317-b33e42080475"
      },
      "outputs": [
        {
          "name": "stdout",
          "output_type": "stream",
          "text": [
            "best mean cross-validation score: 0.250\n",
            "best parameters: {'learning_rate': 0.2, 'max_depth': 0.2, 'n_estimators': 50}\n"
          ]
        }
      ],
      "source": [
        "# Submit Model 3 to Competition Leaderboard\n",
        "param_grid = {'n_estimators': np.arange(0, 300, 50),'max_depth':np.arange(1, 5, 1),'learning_rate':np.arange(0,1,0.2),'max_depth':np.arange(0,1,0.2)}\n",
        "\n",
        "gbmodel = GridSearchCV(GradientBoostingClassifier(), param_grid = param_grid).fit(preprocessor(X_train), y_train_labels)\n",
        "\n",
        "print(\"best mean cross-validation score: {:.3f}\".format(gbmodel.best_score_))\n",
        "print(\"best parameters: {}\".format(gbmodel.best_params_))\n"
      ]
    },
    {
      "cell_type": "code",
      "execution_count": 26,
      "metadata": {
        "colab": {
          "base_uri": "https://localhost:8080/"
        },
        "id": "3l6Cv3Ord68l",
        "outputId": "9c32f5bb-1072-4efb-c665-4227ee1ecccb"
      },
      "outputs": [
        {
          "data": {
            "text/plain": [
              "1.0"
            ]
          },
          "execution_count": 26,
          "metadata": {},
          "output_type": "execute_result"
        }
      ],
      "source": [
        "model3 = GradientBoostingClassifier(n_estimators=100, learning_rate=0.2,\n",
        "    max_depth=5).fit(preprocessor(X_train), y_train_labels)\n",
        "model3.score(preprocessor(X_train), y_train_labels)"
      ]
    },
    {
      "cell_type": "code",
      "execution_count": null,
      "metadata": {
        "id": "tApZA7gjebNp"
      },
      "outputs": [],
      "source": [
        "from aimodelshare.aimsonnx import model_to_onnx\n",
        "\n",
        "feature_count=preprocessor(X_test).shape[1] #Get count of preprocessed features\n",
        "initial_type = [('float_input', FloatTensorType([None, feature_count]))]  # Insert correct number of preprocessed features\n",
        "\n",
        "onnx_model = model_to_onnx(model3, framework='sklearn',\n",
        "                          initial_types=initial_type,\n",
        "                          transfer_learning=False,\n",
        "                          deep_learning=False)\n",
        "\n",
        "with open(\"model.onnx\", \"wb\") as f:\n",
        "    f.write(onnx_model.SerializeToString())\n",
        "\n",
        "#-- Generate predicted values \n",
        "prediction_labels = model3.predict(preprocessor(X_test))\n",
        "\n",
        "# Submit model to Competition Leaderboard\n",
        "mycompetition.submit_model(model_filepath = \"model.onnx\",\n",
        "                                 preprocessor_filepath=\"preprocessor.zip\",\n",
        "                                 prediction_submission=prediction_labels)\n"
      ]
    },
    {
      "cell_type": "markdown",
      "metadata": {
        "id": "7W9u0P8SDwNl"
      },
      "source": [
        "### My fourth model"
      ]
    },
    {
      "cell_type": "code",
      "execution_count": 27,
      "metadata": {
        "colab": {
          "base_uri": "https://localhost:8080/"
        },
        "id": "qdynLCThfxeX",
        "outputId": "56646e45-f476-4f75-d31c-44cb3e954e62"
      },
      "outputs": [
        {
          "name": "stdout",
          "output_type": "stream",
          "text": [
            "best mean cross-validation score: 0.650\n",
            "best parameters: {'learning_rate': 1, 'max_depth': 9, 'n_estimators': 50}\n"
          ]
        }
      ],
      "source": [
        "# Submit Model 4 to Competition Leaderboard\n",
        "param_grid = {    \"n_estimators\":[5,50,250,500],\n",
        "    \"max_depth\":[1,3,5,7,9],\n",
        "    \"learning_rate\":[0.01,0.1,1,10,100]}\n",
        "\n",
        "gbmodel = GridSearchCV(GradientBoostingClassifier(), param_grid = param_grid).fit(preprocessor(X_train), y_train_labels)\n",
        "\n",
        "print(\"best mean cross-validation score: {:.3f}\".format(gbmodel.best_score_))\n",
        "print(\"best parameters: {}\".format(gbmodel.best_params_))"
      ]
    },
    {
      "cell_type": "code",
      "execution_count": 28,
      "metadata": {
        "colab": {
          "base_uri": "https://localhost:8080/"
        },
        "id": "Pg6oEOcWf8xQ",
        "outputId": "9cf0aa75-c7a1-4e1b-d8a7-c2e78f90f721"
      },
      "outputs": [
        {
          "data": {
            "text/plain": [
              "1.0"
            ]
          },
          "execution_count": 28,
          "metadata": {},
          "output_type": "execute_result"
        }
      ],
      "source": [
        "model4 = GradientBoostingClassifier(n_estimators=500, learning_rate=0.1,\n",
        "    max_depth=5, random_state=0).fit(preprocessor(X_train), y_train_labels)\n",
        "model4.score(preprocessor(X_train), y_train_labels)"
      ]
    },
    {
      "cell_type": "code",
      "execution_count": null,
      "metadata": {
        "id": "HCHkDXNehfNX"
      },
      "outputs": [],
      "source": [
        "from aimodelshare.aimsonnx import model_to_onnx\n",
        "\n",
        "feature_count=preprocessor(X_test).shape[1] #Get count of preprocessed features\n",
        "initial_type = [('float_input', FloatTensorType([None, feature_count]))]  # Insert correct number of preprocessed features\n",
        "\n",
        "onnx_model = model_to_onnx(model4, framework='sklearn',\n",
        "                          initial_types=initial_type,\n",
        "                          transfer_learning=False,\n",
        "                          deep_learning=False)\n",
        "with open(\"model.onnx\", \"wb\") as f:\n",
        "    f.write(onnx_model.SerializeToString())\n",
        "\n",
        "#-- Generate predicted values \n",
        "prediction_labels = model4.predict(preprocessor(X_test))\n",
        "\n",
        "# Submit model to Competition Leaderboard\n",
        "mycompetition.submit_model(model_filepath = \"model.onnx\",\n",
        "                                 preprocessor_filepath=\"preprocessor.zip\",\n",
        "                                 prediction_submission=prediction_labels)"
      ]
    },
    {
      "cell_type": "markdown",
      "metadata": {
        "id": "nBRWln0uDzL9"
      },
      "source": [
        "### My fifth model"
      ]
    },
    {
      "cell_type": "code",
      "execution_count": 29,
      "metadata": {
        "colab": {
          "base_uri": "https://localhost:8080/"
        },
        "id": "ICZE3xe9lJNH",
        "outputId": "61cb81ab-9446-4d1b-cfb5-cd4bcb95267b"
      },
      "outputs": [
        {
          "name": "stdout",
          "output_type": "stream",
          "text": [
            "best mean cross-validation score: 0.693\n",
            "best parameters: {'max_depth': 5, 'n_estimators': 150}\n"
          ]
        }
      ],
      "source": [
        "param_grid = {'n_estimators': np.arange(100, 300, 25),'max_depth':[1, 5, 1]} #np.arange creates sequence of numbers for each k value\n",
        "\n",
        "rfmodel = GridSearchCV(RandomForestClassifier(), param_grid=param_grid, cv=10)\n",
        "\n",
        "rf = rfmodel.fit(preprocessor(X_train), y_train_labels)\n",
        "#extract best score and parameter by calling objects \"best_score_\" and \"best_params_\"\n",
        "print(\"best mean cross-validation score: {:.3f}\".format(rf.best_score_))\n",
        "print(\"best parameters: {}\".format(rf.best_params_))\n"
      ]
    },
    {
      "cell_type": "code",
      "execution_count": 31,
      "metadata": {
        "colab": {
          "base_uri": "https://localhost:8080/"
        },
        "id": "VXEOdalbleDu",
        "outputId": "5285a40e-c923-479a-8e5d-eb479bd70681"
      },
      "outputs": [
        {
          "data": {
            "text/plain": [
              "RandomForestClassifier(max_depth=5, n_estimators=250)"
            ]
          },
          "execution_count": 31,
          "metadata": {},
          "output_type": "execute_result"
        }
      ],
      "source": [
        "model5 = RandomForestClassifier(n_estimators = 250, max_depth = 5)\n",
        "model5.fit(preprocessor(X_train), y_train_labels)"
      ]
    },
    {
      "cell_type": "code",
      "execution_count": null,
      "metadata": {
        "id": "U8J_oOZRLj_w"
      },
      "outputs": [],
      "source": [
        "feature_count=preprocessor(X_test).shape[1] #Get count of preprocessed features\n",
        "initial_type = [('float_input', FloatTensorType([None, feature_count]))]  # Insert correct number of preprocessed features\n",
        "\n",
        "onnx_model = model_to_onnx(model5, framework='sklearn',\n",
        "                          initial_types=initial_type,\n",
        "                          transfer_learning=False,\n",
        "                          deep_learning=False)\n",
        "\n",
        "with open(\"model.onnx\", \"wb\") as f:\n",
        "    f.write(onnx_model.SerializeToString())\n",
        "\n",
        "#-- Generate predicted values \n",
        "prediction_labels = model5.predict(preprocessor(X_test))\n",
        "\n",
        "# Submit model to Competition Leaderboard\n",
        "mycompetition.submit_model(model_filepath = \"model.onnx\",\n",
        "                                 preprocessor_filepath=\"preprocessor.zip\",\n",
        "                                 prediction_submission=prediction_labels)"
      ]
    },
    {
      "cell_type": "markdown",
      "metadata": {
        "id": "cg6cmjYSGGqs"
      },
      "source": [
        "### My sixth model"
      ]
    },
    {
      "cell_type": "code",
      "execution_count": 32,
      "metadata": {
        "colab": {
          "base_uri": "https://localhost:8080/"
        },
        "id": "LiVUBR0jix--",
        "outputId": "b44214c7-1e9a-4487-f5e3-16af85cf7668"
      },
      "outputs": [
        {
          "name": "stdout",
          "output_type": "stream",
          "text": [
            "Epoch 1/300\n",
            "4/4 [==============================] - 1s 86ms/step - loss: 1.6245 - accuracy: 0.1061 - val_loss: 1.6274 - val_accuracy: 0.0455\n",
            "Epoch 2/300\n",
            "4/4 [==============================] - 0s 12ms/step - loss: 1.6138 - accuracy: 0.1212 - val_loss: 1.6216 - val_accuracy: 0.0909\n",
            "Epoch 3/300\n",
            "4/4 [==============================] - 0s 10ms/step - loss: 1.6052 - accuracy: 0.1364 - val_loss: 1.6174 - val_accuracy: 0.0909\n",
            "Epoch 4/300\n",
            "4/4 [==============================] - 0s 10ms/step - loss: 1.5957 - accuracy: 0.1970 - val_loss: 1.6138 - val_accuracy: 0.0909\n",
            "Epoch 5/300\n",
            "4/4 [==============================] - 0s 12ms/step - loss: 1.5876 - accuracy: 0.2121 - val_loss: 1.6107 - val_accuracy: 0.1364\n",
            "Epoch 6/300\n",
            "4/4 [==============================] - 0s 12ms/step - loss: 1.5803 - accuracy: 0.2424 - val_loss: 1.6076 - val_accuracy: 0.1364\n",
            "Epoch 7/300\n",
            "4/4 [==============================] - 0s 10ms/step - loss: 1.5717 - accuracy: 0.2727 - val_loss: 1.6028 - val_accuracy: 0.1364\n",
            "Epoch 8/300\n",
            "4/4 [==============================] - 0s 11ms/step - loss: 1.5650 - accuracy: 0.2424 - val_loss: 1.5980 - val_accuracy: 0.1364\n",
            "Epoch 9/300\n",
            "4/4 [==============================] - 0s 10ms/step - loss: 1.5574 - accuracy: 0.2879 - val_loss: 1.5954 - val_accuracy: 0.2273\n",
            "Epoch 10/300\n",
            "4/4 [==============================] - 0s 10ms/step - loss: 1.5498 - accuracy: 0.3030 - val_loss: 1.5906 - val_accuracy: 0.2273\n",
            "Epoch 11/300\n",
            "4/4 [==============================] - 0s 11ms/step - loss: 1.5443 - accuracy: 0.3030 - val_loss: 1.5876 - val_accuracy: 0.2273\n",
            "Epoch 12/300\n",
            "4/4 [==============================] - 0s 11ms/step - loss: 1.5371 - accuracy: 0.3182 - val_loss: 1.5835 - val_accuracy: 0.2273\n",
            "Epoch 13/300\n",
            "4/4 [==============================] - 0s 10ms/step - loss: 1.5312 - accuracy: 0.3182 - val_loss: 1.5782 - val_accuracy: 0.2273\n",
            "Epoch 14/300\n",
            "4/4 [==============================] - 0s 9ms/step - loss: 1.5257 - accuracy: 0.3182 - val_loss: 1.5754 - val_accuracy: 0.2273\n",
            "Epoch 15/300\n",
            "4/4 [==============================] - 0s 10ms/step - loss: 1.5192 - accuracy: 0.3333 - val_loss: 1.5708 - val_accuracy: 0.2273\n",
            "Epoch 16/300\n",
            "4/4 [==============================] - 0s 10ms/step - loss: 1.5133 - accuracy: 0.3485 - val_loss: 1.5661 - val_accuracy: 0.2273\n",
            "Epoch 17/300\n",
            "4/4 [==============================] - 0s 10ms/step - loss: 1.5069 - accuracy: 0.3485 - val_loss: 1.5627 - val_accuracy: 0.2727\n",
            "Epoch 18/300\n",
            "4/4 [==============================] - 0s 10ms/step - loss: 1.5004 - accuracy: 0.4242 - val_loss: 1.5565 - val_accuracy: 0.2727\n",
            "Epoch 19/300\n",
            "4/4 [==============================] - 0s 10ms/step - loss: 1.4941 - accuracy: 0.4242 - val_loss: 1.5502 - val_accuracy: 0.2727\n",
            "Epoch 20/300\n",
            "4/4 [==============================] - 0s 13ms/step - loss: 1.4876 - accuracy: 0.4242 - val_loss: 1.5463 - val_accuracy: 0.2727\n",
            "Epoch 21/300\n",
            "4/4 [==============================] - 0s 10ms/step - loss: 1.4808 - accuracy: 0.4242 - val_loss: 1.5424 - val_accuracy: 0.2727\n",
            "Epoch 22/300\n",
            "4/4 [==============================] - 0s 12ms/step - loss: 1.4735 - accuracy: 0.4394 - val_loss: 1.5375 - val_accuracy: 0.3182\n",
            "Epoch 23/300\n",
            "4/4 [==============================] - 0s 12ms/step - loss: 1.4666 - accuracy: 0.4394 - val_loss: 1.5298 - val_accuracy: 0.3182\n",
            "Epoch 24/300\n",
            "4/4 [==============================] - 0s 10ms/step - loss: 1.4591 - accuracy: 0.4697 - val_loss: 1.5250 - val_accuracy: 0.3182\n",
            "Epoch 25/300\n",
            "4/4 [==============================] - 0s 11ms/step - loss: 1.4518 - accuracy: 0.5000 - val_loss: 1.5191 - val_accuracy: 0.3182\n",
            "Epoch 26/300\n",
            "4/4 [==============================] - 0s 10ms/step - loss: 1.4435 - accuracy: 0.5000 - val_loss: 1.5132 - val_accuracy: 0.3182\n",
            "Epoch 27/300\n",
            "4/4 [==============================] - 0s 11ms/step - loss: 1.4346 - accuracy: 0.5303 - val_loss: 1.5073 - val_accuracy: 0.3182\n",
            "Epoch 28/300\n",
            "4/4 [==============================] - 0s 10ms/step - loss: 1.4267 - accuracy: 0.5455 - val_loss: 1.5017 - val_accuracy: 0.3182\n",
            "Epoch 29/300\n",
            "4/4 [==============================] - 0s 11ms/step - loss: 1.4172 - accuracy: 0.5303 - val_loss: 1.4959 - val_accuracy: 0.3182\n",
            "Epoch 30/300\n",
            "4/4 [==============================] - 0s 10ms/step - loss: 1.4089 - accuracy: 0.5455 - val_loss: 1.4888 - val_accuracy: 0.3182\n",
            "Epoch 31/300\n",
            "4/4 [==============================] - 0s 9ms/step - loss: 1.4000 - accuracy: 0.5606 - val_loss: 1.4821 - val_accuracy: 0.3182\n",
            "Epoch 32/300\n",
            "4/4 [==============================] - 0s 10ms/step - loss: 1.3920 - accuracy: 0.5909 - val_loss: 1.4762 - val_accuracy: 0.3182\n",
            "Epoch 33/300\n",
            "4/4 [==============================] - 0s 16ms/step - loss: 1.3816 - accuracy: 0.5758 - val_loss: 1.4664 - val_accuracy: 0.3636\n",
            "Epoch 34/300\n",
            "4/4 [==============================] - 0s 10ms/step - loss: 1.3713 - accuracy: 0.6061 - val_loss: 1.4595 - val_accuracy: 0.3636\n",
            "Epoch 35/300\n",
            "4/4 [==============================] - 0s 12ms/step - loss: 1.3626 - accuracy: 0.6212 - val_loss: 1.4503 - val_accuracy: 0.3636\n",
            "Epoch 36/300\n",
            "4/4 [==============================] - 0s 18ms/step - loss: 1.3508 - accuracy: 0.6515 - val_loss: 1.4412 - val_accuracy: 0.3636\n",
            "Epoch 37/300\n",
            "4/4 [==============================] - 0s 29ms/step - loss: 1.3412 - accuracy: 0.6515 - val_loss: 1.4311 - val_accuracy: 0.3636\n",
            "Epoch 38/300\n",
            "4/4 [==============================] - 0s 17ms/step - loss: 1.3293 - accuracy: 0.6667 - val_loss: 1.4220 - val_accuracy: 0.3636\n",
            "Epoch 39/300\n",
            "4/4 [==============================] - 0s 15ms/step - loss: 1.3185 - accuracy: 0.6818 - val_loss: 1.4097 - val_accuracy: 0.4545\n",
            "Epoch 40/300\n",
            "4/4 [==============================] - 0s 34ms/step - loss: 1.3070 - accuracy: 0.7121 - val_loss: 1.4027 - val_accuracy: 0.3636\n",
            "Epoch 41/300\n",
            "4/4 [==============================] - 0s 30ms/step - loss: 1.2965 - accuracy: 0.7273 - val_loss: 1.3918 - val_accuracy: 0.4545\n",
            "Epoch 42/300\n",
            "4/4 [==============================] - 0s 34ms/step - loss: 1.2843 - accuracy: 0.7273 - val_loss: 1.3823 - val_accuracy: 0.4545\n",
            "Epoch 43/300\n",
            "4/4 [==============================] - 0s 15ms/step - loss: 1.2736 - accuracy: 0.7273 - val_loss: 1.3710 - val_accuracy: 0.5000\n",
            "Epoch 44/300\n",
            "4/4 [==============================] - 0s 21ms/step - loss: 1.2612 - accuracy: 0.7424 - val_loss: 1.3624 - val_accuracy: 0.5000\n",
            "Epoch 45/300\n",
            "4/4 [==============================] - 0s 48ms/step - loss: 1.2489 - accuracy: 0.7273 - val_loss: 1.3469 - val_accuracy: 0.5000\n",
            "Epoch 46/300\n",
            "4/4 [==============================] - 0s 25ms/step - loss: 1.2364 - accuracy: 0.7273 - val_loss: 1.3373 - val_accuracy: 0.5000\n",
            "Epoch 47/300\n",
            "4/4 [==============================] - 0s 21ms/step - loss: 1.2235 - accuracy: 0.7273 - val_loss: 1.3261 - val_accuracy: 0.5000\n",
            "Epoch 48/300\n",
            "4/4 [==============================] - 0s 25ms/step - loss: 1.2128 - accuracy: 0.7273 - val_loss: 1.3174 - val_accuracy: 0.5000\n",
            "Epoch 49/300\n",
            "4/4 [==============================] - 0s 35ms/step - loss: 1.1987 - accuracy: 0.7273 - val_loss: 1.3040 - val_accuracy: 0.5000\n",
            "Epoch 50/300\n",
            "4/4 [==============================] - 0s 39ms/step - loss: 1.1866 - accuracy: 0.7273 - val_loss: 1.2953 - val_accuracy: 0.5000\n",
            "Epoch 51/300\n",
            "4/4 [==============================] - 0s 15ms/step - loss: 1.1736 - accuracy: 0.7273 - val_loss: 1.2737 - val_accuracy: 0.5909\n",
            "Epoch 52/300\n",
            "4/4 [==============================] - 0s 34ms/step - loss: 1.1622 - accuracy: 0.7273 - val_loss: 1.2645 - val_accuracy: 0.5455\n",
            "Epoch 53/300\n",
            "4/4 [==============================] - 0s 21ms/step - loss: 1.1487 - accuracy: 0.7424 - val_loss: 1.2535 - val_accuracy: 0.5909\n",
            "Epoch 54/300\n",
            "4/4 [==============================] - 0s 14ms/step - loss: 1.1357 - accuracy: 0.7424 - val_loss: 1.2409 - val_accuracy: 0.6364\n",
            "Epoch 55/300\n",
            "4/4 [==============================] - 0s 21ms/step - loss: 1.1215 - accuracy: 0.7424 - val_loss: 1.2309 - val_accuracy: 0.6364\n",
            "Epoch 56/300\n",
            "4/4 [==============================] - 0s 16ms/step - loss: 1.1075 - accuracy: 0.7424 - val_loss: 1.2184 - val_accuracy: 0.6364\n",
            "Epoch 57/300\n",
            "4/4 [==============================] - 0s 17ms/step - loss: 1.0950 - accuracy: 0.7273 - val_loss: 1.2093 - val_accuracy: 0.6364\n",
            "Epoch 58/300\n",
            "4/4 [==============================] - 0s 31ms/step - loss: 1.0822 - accuracy: 0.7273 - val_loss: 1.1942 - val_accuracy: 0.6818\n",
            "Epoch 59/300\n",
            "4/4 [==============================] - 0s 21ms/step - loss: 1.0692 - accuracy: 0.7424 - val_loss: 1.1821 - val_accuracy: 0.6818\n",
            "Epoch 60/300\n",
            "4/4 [==============================] - 0s 14ms/step - loss: 1.0561 - accuracy: 0.7273 - val_loss: 1.1590 - val_accuracy: 0.6818\n",
            "Epoch 61/300\n",
            "4/4 [==============================] - 0s 15ms/step - loss: 1.0419 - accuracy: 0.7576 - val_loss: 1.1505 - val_accuracy: 0.6818\n",
            "Epoch 62/300\n",
            "4/4 [==============================] - 0s 24ms/step - loss: 1.0280 - accuracy: 0.7879 - val_loss: 1.1363 - val_accuracy: 0.6818\n",
            "Epoch 63/300\n",
            "4/4 [==============================] - 0s 24ms/step - loss: 1.0181 - accuracy: 0.7879 - val_loss: 1.1205 - val_accuracy: 0.6818\n",
            "Epoch 64/300\n",
            "4/4 [==============================] - 0s 29ms/step - loss: 1.0041 - accuracy: 0.7879 - val_loss: 1.1095 - val_accuracy: 0.6818\n",
            "Epoch 65/300\n",
            "4/4 [==============================] - 0s 44ms/step - loss: 0.9941 - accuracy: 0.8030 - val_loss: 1.1027 - val_accuracy: 0.6818\n",
            "Epoch 66/300\n",
            "4/4 [==============================] - 0s 26ms/step - loss: 0.9777 - accuracy: 0.7727 - val_loss: 1.0912 - val_accuracy: 0.6818\n",
            "Epoch 67/300\n",
            "4/4 [==============================] - 0s 39ms/step - loss: 0.9642 - accuracy: 0.7576 - val_loss: 1.0841 - val_accuracy: 0.6818\n",
            "Epoch 68/300\n",
            "4/4 [==============================] - 0s 30ms/step - loss: 0.9537 - accuracy: 0.7727 - val_loss: 1.0716 - val_accuracy: 0.6818\n",
            "Epoch 69/300\n",
            "4/4 [==============================] - 0s 43ms/step - loss: 0.9409 - accuracy: 0.8030 - val_loss: 1.0665 - val_accuracy: 0.6818\n",
            "Epoch 70/300\n",
            "4/4 [==============================] - 0s 39ms/step - loss: 0.9294 - accuracy: 0.7879 - val_loss: 1.0543 - val_accuracy: 0.6818\n",
            "Epoch 71/300\n",
            "4/4 [==============================] - 0s 17ms/step - loss: 0.9178 - accuracy: 0.7879 - val_loss: 1.0430 - val_accuracy: 0.6818\n",
            "Epoch 72/300\n",
            "4/4 [==============================] - 0s 12ms/step - loss: 0.9051 - accuracy: 0.7879 - val_loss: 1.0276 - val_accuracy: 0.6818\n",
            "Epoch 73/300\n",
            "4/4 [==============================] - 0s 12ms/step - loss: 0.8950 - accuracy: 0.7727 - val_loss: 1.0239 - val_accuracy: 0.6364\n",
            "Epoch 74/300\n",
            "4/4 [==============================] - 0s 11ms/step - loss: 0.8834 - accuracy: 0.7879 - val_loss: 1.0161 - val_accuracy: 0.6364\n",
            "Epoch 75/300\n",
            "4/4 [==============================] - 0s 12ms/step - loss: 0.8749 - accuracy: 0.8182 - val_loss: 1.0080 - val_accuracy: 0.6364\n",
            "Epoch 76/300\n",
            "4/4 [==============================] - 0s 12ms/step - loss: 0.8634 - accuracy: 0.8030 - val_loss: 1.0019 - val_accuracy: 0.6364\n",
            "Epoch 77/300\n",
            "4/4 [==============================] - 0s 13ms/step - loss: 0.8525 - accuracy: 0.8182 - val_loss: 0.9931 - val_accuracy: 0.6364\n",
            "Epoch 78/300\n",
            "4/4 [==============================] - 0s 12ms/step - loss: 0.8425 - accuracy: 0.8030 - val_loss: 0.9849 - val_accuracy: 0.6364\n",
            "Epoch 79/300\n",
            "4/4 [==============================] - 0s 12ms/step - loss: 0.8338 - accuracy: 0.8030 - val_loss: 0.9748 - val_accuracy: 0.6364\n",
            "Epoch 80/300\n",
            "4/4 [==============================] - 0s 13ms/step - loss: 0.8256 - accuracy: 0.8182 - val_loss: 0.9611 - val_accuracy: 0.6364\n",
            "Epoch 81/300\n",
            "4/4 [==============================] - 0s 15ms/step - loss: 0.8121 - accuracy: 0.8333 - val_loss: 0.9617 - val_accuracy: 0.6364\n",
            "Epoch 82/300\n",
            "4/4 [==============================] - 0s 20ms/step - loss: 0.8053 - accuracy: 0.8182 - val_loss: 0.9547 - val_accuracy: 0.6364\n",
            "Epoch 83/300\n",
            "4/4 [==============================] - 0s 11ms/step - loss: 0.7956 - accuracy: 0.8182 - val_loss: 0.9482 - val_accuracy: 0.6364\n",
            "Epoch 84/300\n",
            "4/4 [==============================] - 0s 12ms/step - loss: 0.7864 - accuracy: 0.8182 - val_loss: 0.9382 - val_accuracy: 0.6364\n",
            "Epoch 85/300\n",
            "4/4 [==============================] - 0s 12ms/step - loss: 0.7772 - accuracy: 0.8485 - val_loss: 0.9332 - val_accuracy: 0.6364\n",
            "Epoch 86/300\n",
            "4/4 [==============================] - 0s 12ms/step - loss: 0.7687 - accuracy: 0.8485 - val_loss: 0.9287 - val_accuracy: 0.6364\n",
            "Epoch 87/300\n",
            "4/4 [==============================] - 0s 20ms/step - loss: 0.7625 - accuracy: 0.8485 - val_loss: 0.9064 - val_accuracy: 0.6364\n",
            "Epoch 88/300\n",
            "4/4 [==============================] - 0s 13ms/step - loss: 0.7530 - accuracy: 0.8333 - val_loss: 0.9098 - val_accuracy: 0.6364\n",
            "Epoch 89/300\n",
            "4/4 [==============================] - 0s 13ms/step - loss: 0.7454 - accuracy: 0.8333 - val_loss: 0.9002 - val_accuracy: 0.6364\n",
            "Epoch 90/300\n",
            "4/4 [==============================] - 0s 19ms/step - loss: 0.7400 - accuracy: 0.8182 - val_loss: 0.8929 - val_accuracy: 0.6364\n",
            "Epoch 91/300\n",
            "4/4 [==============================] - 0s 15ms/step - loss: 0.7340 - accuracy: 0.8333 - val_loss: 0.8908 - val_accuracy: 0.6364\n",
            "Epoch 92/300\n",
            "4/4 [==============================] - 0s 13ms/step - loss: 0.7221 - accuracy: 0.8485 - val_loss: 0.8875 - val_accuracy: 0.6364\n",
            "Epoch 93/300\n",
            "4/4 [==============================] - 0s 13ms/step - loss: 0.7142 - accuracy: 0.8636 - val_loss: 0.8909 - val_accuracy: 0.6364\n",
            "Epoch 94/300\n",
            "4/4 [==============================] - 0s 14ms/step - loss: 0.7053 - accuracy: 0.8485 - val_loss: 0.8849 - val_accuracy: 0.6364\n",
            "Epoch 95/300\n",
            "4/4 [==============================] - 0s 21ms/step - loss: 0.6994 - accuracy: 0.8636 - val_loss: 0.8851 - val_accuracy: 0.6364\n",
            "Epoch 96/300\n",
            "4/4 [==============================] - 0s 14ms/step - loss: 0.6913 - accuracy: 0.8485 - val_loss: 0.8827 - val_accuracy: 0.6364\n",
            "Epoch 97/300\n",
            "4/4 [==============================] - 0s 20ms/step - loss: 0.6848 - accuracy: 0.8485 - val_loss: 0.8775 - val_accuracy: 0.6364\n",
            "Epoch 98/300\n",
            "4/4 [==============================] - 0s 15ms/step - loss: 0.6784 - accuracy: 0.8333 - val_loss: 0.8696 - val_accuracy: 0.6364\n",
            "Epoch 99/300\n",
            "4/4 [==============================] - 0s 12ms/step - loss: 0.6709 - accuracy: 0.8636 - val_loss: 0.8559 - val_accuracy: 0.6364\n",
            "Epoch 100/300\n",
            "4/4 [==============================] - 0s 12ms/step - loss: 0.6634 - accuracy: 0.8636 - val_loss: 0.8482 - val_accuracy: 0.6364\n",
            "Epoch 101/300\n",
            "4/4 [==============================] - 0s 14ms/step - loss: 0.6597 - accuracy: 0.8939 - val_loss: 0.8474 - val_accuracy: 0.6364\n",
            "Epoch 102/300\n",
            "4/4 [==============================] - 0s 14ms/step - loss: 0.6510 - accuracy: 0.8636 - val_loss: 0.8449 - val_accuracy: 0.6364\n",
            "Epoch 103/300\n",
            "4/4 [==============================] - 0s 14ms/step - loss: 0.6483 - accuracy: 0.8636 - val_loss: 0.8459 - val_accuracy: 0.6364\n",
            "Epoch 104/300\n",
            "4/4 [==============================] - 0s 14ms/step - loss: 0.6425 - accuracy: 0.8636 - val_loss: 0.8572 - val_accuracy: 0.6364\n",
            "Epoch 105/300\n",
            "4/4 [==============================] - 0s 16ms/step - loss: 0.6364 - accuracy: 0.8333 - val_loss: 0.8489 - val_accuracy: 0.6364\n",
            "Epoch 106/300\n",
            "4/4 [==============================] - 0s 20ms/step - loss: 0.6316 - accuracy: 0.8636 - val_loss: 0.8457 - val_accuracy: 0.6364\n",
            "Epoch 107/300\n",
            "4/4 [==============================] - 0s 15ms/step - loss: 0.6247 - accuracy: 0.8333 - val_loss: 0.8492 - val_accuracy: 0.5909\n",
            "Epoch 108/300\n",
            "4/4 [==============================] - 0s 17ms/step - loss: 0.6184 - accuracy: 0.8333 - val_loss: 0.8460 - val_accuracy: 0.5909\n",
            "Epoch 109/300\n",
            "4/4 [==============================] - 0s 18ms/step - loss: 0.6134 - accuracy: 0.8333 - val_loss: 0.8441 - val_accuracy: 0.5909\n",
            "Epoch 110/300\n",
            "4/4 [==============================] - 0s 13ms/step - loss: 0.6104 - accuracy: 0.8333 - val_loss: 0.8444 - val_accuracy: 0.5909\n",
            "Epoch 111/300\n",
            "4/4 [==============================] - 0s 23ms/step - loss: 0.6050 - accuracy: 0.8485 - val_loss: 0.8408 - val_accuracy: 0.6364\n",
            "Epoch 112/300\n",
            "4/4 [==============================] - 0s 25ms/step - loss: 0.5977 - accuracy: 0.8333 - val_loss: 0.8278 - val_accuracy: 0.6364\n",
            "Epoch 113/300\n",
            "4/4 [==============================] - 0s 50ms/step - loss: 0.5912 - accuracy: 0.8485 - val_loss: 0.8363 - val_accuracy: 0.5909\n",
            "Epoch 114/300\n",
            "4/4 [==============================] - 0s 36ms/step - loss: 0.5870 - accuracy: 0.8333 - val_loss: 0.8211 - val_accuracy: 0.5909\n",
            "Epoch 115/300\n",
            "4/4 [==============================] - 0s 34ms/step - loss: 0.5794 - accuracy: 0.8939 - val_loss: 0.8172 - val_accuracy: 0.6364\n",
            "Epoch 116/300\n",
            "4/4 [==============================] - 0s 27ms/step - loss: 0.5802 - accuracy: 0.8939 - val_loss: 0.8181 - val_accuracy: 0.6364\n",
            "Epoch 117/300\n",
            "4/4 [==============================] - 0s 23ms/step - loss: 0.5763 - accuracy: 0.8636 - val_loss: 0.8112 - val_accuracy: 0.6818\n",
            "Epoch 118/300\n",
            "4/4 [==============================] - 0s 23ms/step - loss: 0.5696 - accuracy: 0.8788 - val_loss: 0.8133 - val_accuracy: 0.6364\n",
            "Epoch 119/300\n",
            "4/4 [==============================] - 0s 18ms/step - loss: 0.5624 - accuracy: 0.9091 - val_loss: 0.8020 - val_accuracy: 0.6818\n",
            "Epoch 120/300\n",
            "4/4 [==============================] - 0s 20ms/step - loss: 0.5590 - accuracy: 0.9091 - val_loss: 0.8066 - val_accuracy: 0.6364\n",
            "Epoch 121/300\n",
            "4/4 [==============================] - 0s 20ms/step - loss: 0.5551 - accuracy: 0.8788 - val_loss: 0.8116 - val_accuracy: 0.6818\n",
            "Epoch 122/300\n",
            "4/4 [==============================] - 0s 15ms/step - loss: 0.5522 - accuracy: 0.8788 - val_loss: 0.8123 - val_accuracy: 0.6364\n",
            "Epoch 123/300\n",
            "4/4 [==============================] - 0s 15ms/step - loss: 0.5461 - accuracy: 0.9091 - val_loss: 0.8090 - val_accuracy: 0.6818\n",
            "Epoch 124/300\n",
            "4/4 [==============================] - 0s 15ms/step - loss: 0.5393 - accuracy: 0.8939 - val_loss: 0.8120 - val_accuracy: 0.6364\n",
            "Epoch 125/300\n",
            "4/4 [==============================] - 0s 17ms/step - loss: 0.5374 - accuracy: 0.9091 - val_loss: 0.8195 - val_accuracy: 0.6364\n",
            "Epoch 126/300\n",
            "4/4 [==============================] - 0s 14ms/step - loss: 0.5337 - accuracy: 0.8788 - val_loss: 0.8127 - val_accuracy: 0.6364\n",
            "Epoch 127/300\n",
            "4/4 [==============================] - 0s 22ms/step - loss: 0.5289 - accuracy: 0.8939 - val_loss: 0.8131 - val_accuracy: 0.6364\n",
            "Epoch 128/300\n",
            "4/4 [==============================] - 0s 17ms/step - loss: 0.5253 - accuracy: 0.8939 - val_loss: 0.7927 - val_accuracy: 0.7273\n",
            "Epoch 129/300\n",
            "4/4 [==============================] - 0s 17ms/step - loss: 0.5221 - accuracy: 0.8939 - val_loss: 0.7905 - val_accuracy: 0.6818\n",
            "Epoch 130/300\n",
            "4/4 [==============================] - 0s 15ms/step - loss: 0.5178 - accuracy: 0.8939 - val_loss: 0.8110 - val_accuracy: 0.6364\n",
            "Epoch 131/300\n",
            "4/4 [==============================] - 0s 13ms/step - loss: 0.5152 - accuracy: 0.8939 - val_loss: 0.7969 - val_accuracy: 0.6364\n",
            "Epoch 132/300\n",
            "4/4 [==============================] - 0s 14ms/step - loss: 0.5099 - accuracy: 0.8939 - val_loss: 0.8009 - val_accuracy: 0.6364\n",
            "Epoch 133/300\n",
            "4/4 [==============================] - 0s 11ms/step - loss: 0.5088 - accuracy: 0.8939 - val_loss: 0.8150 - val_accuracy: 0.6364\n",
            "Epoch 134/300\n",
            "4/4 [==============================] - 0s 10ms/step - loss: 0.5048 - accuracy: 0.8788 - val_loss: 0.7842 - val_accuracy: 0.7273\n",
            "Epoch 135/300\n",
            "4/4 [==============================] - 0s 11ms/step - loss: 0.5017 - accuracy: 0.8939 - val_loss: 0.7897 - val_accuracy: 0.6818\n",
            "Epoch 136/300\n",
            "4/4 [==============================] - 0s 10ms/step - loss: 0.4964 - accuracy: 0.8939 - val_loss: 0.7817 - val_accuracy: 0.6818\n",
            "Epoch 137/300\n",
            "4/4 [==============================] - 0s 11ms/step - loss: 0.4904 - accuracy: 0.9091 - val_loss: 0.7911 - val_accuracy: 0.6364\n",
            "Epoch 138/300\n",
            "4/4 [==============================] - 0s 10ms/step - loss: 0.4898 - accuracy: 0.9091 - val_loss: 0.7914 - val_accuracy: 0.6364\n",
            "Epoch 139/300\n",
            "4/4 [==============================] - 0s 17ms/step - loss: 0.4887 - accuracy: 0.9091 - val_loss: 0.7735 - val_accuracy: 0.7273\n",
            "Epoch 140/300\n",
            "4/4 [==============================] - 0s 10ms/step - loss: 0.4871 - accuracy: 0.8788 - val_loss: 0.7807 - val_accuracy: 0.6818\n",
            "Epoch 141/300\n",
            "4/4 [==============================] - 0s 11ms/step - loss: 0.4807 - accuracy: 0.9091 - val_loss: 0.7762 - val_accuracy: 0.6818\n",
            "Epoch 142/300\n",
            "4/4 [==============================] - 0s 10ms/step - loss: 0.4796 - accuracy: 0.8939 - val_loss: 0.7741 - val_accuracy: 0.6818\n",
            "Epoch 143/300\n",
            "4/4 [==============================] - 0s 11ms/step - loss: 0.4795 - accuracy: 0.8939 - val_loss: 0.7905 - val_accuracy: 0.6818\n",
            "Epoch 144/300\n",
            "4/4 [==============================] - 0s 12ms/step - loss: 0.4716 - accuracy: 0.9091 - val_loss: 0.7882 - val_accuracy: 0.6364\n",
            "Epoch 145/300\n",
            "4/4 [==============================] - 0s 10ms/step - loss: 0.4690 - accuracy: 0.9091 - val_loss: 0.7692 - val_accuracy: 0.6818\n",
            "Epoch 146/300\n",
            "4/4 [==============================] - 0s 10ms/step - loss: 0.4692 - accuracy: 0.8788 - val_loss: 0.7948 - val_accuracy: 0.6818\n",
            "Epoch 147/300\n",
            "4/4 [==============================] - 0s 10ms/step - loss: 0.4593 - accuracy: 0.9091 - val_loss: 0.8089 - val_accuracy: 0.6818\n",
            "Epoch 148/300\n",
            "4/4 [==============================] - 0s 10ms/step - loss: 0.4608 - accuracy: 0.8939 - val_loss: 0.8069 - val_accuracy: 0.6818\n",
            "Epoch 149/300\n",
            "4/4 [==============================] - 0s 12ms/step - loss: 0.4544 - accuracy: 0.9091 - val_loss: 0.8233 - val_accuracy: 0.6818\n",
            "Epoch 150/300\n",
            "4/4 [==============================] - 0s 12ms/step - loss: 0.4547 - accuracy: 0.8939 - val_loss: 0.8013 - val_accuracy: 0.6364\n",
            "Epoch 151/300\n",
            "4/4 [==============================] - 0s 10ms/step - loss: 0.4482 - accuracy: 0.9091 - val_loss: 0.8200 - val_accuracy: 0.6364\n",
            "Epoch 152/300\n",
            "4/4 [==============================] - 0s 10ms/step - loss: 0.4460 - accuracy: 0.9091 - val_loss: 0.8160 - val_accuracy: 0.6364\n",
            "Epoch 153/300\n",
            "4/4 [==============================] - 0s 12ms/step - loss: 0.4413 - accuracy: 0.9091 - val_loss: 0.7983 - val_accuracy: 0.6364\n",
            "Epoch 154/300\n",
            "4/4 [==============================] - 0s 12ms/step - loss: 0.4368 - accuracy: 0.9091 - val_loss: 0.7925 - val_accuracy: 0.6818\n",
            "Epoch 155/300\n",
            "4/4 [==============================] - 0s 12ms/step - loss: 0.4343 - accuracy: 0.9091 - val_loss: 0.7957 - val_accuracy: 0.6364\n",
            "Epoch 156/300\n",
            "4/4 [==============================] - 0s 11ms/step - loss: 0.4355 - accuracy: 0.9091 - val_loss: 0.8074 - val_accuracy: 0.6364\n",
            "Epoch 157/300\n",
            "4/4 [==============================] - 0s 11ms/step - loss: 0.4273 - accuracy: 0.9091 - val_loss: 0.7837 - val_accuracy: 0.6818\n",
            "Epoch 158/300\n",
            "4/4 [==============================] - 0s 10ms/step - loss: 0.4253 - accuracy: 0.9091 - val_loss: 0.7960 - val_accuracy: 0.6818\n",
            "Epoch 159/300\n",
            "4/4 [==============================] - 0s 11ms/step - loss: 0.4263 - accuracy: 0.9091 - val_loss: 0.8051 - val_accuracy: 0.6818\n",
            "Epoch 160/300\n",
            "4/4 [==============================] - 0s 12ms/step - loss: 0.4239 - accuracy: 0.9091 - val_loss: 0.7810 - val_accuracy: 0.7273\n",
            "Epoch 161/300\n",
            "4/4 [==============================] - 0s 12ms/step - loss: 0.4213 - accuracy: 0.9091 - val_loss: 0.8040 - val_accuracy: 0.6818\n",
            "Epoch 162/300\n",
            "4/4 [==============================] - 0s 20ms/step - loss: 0.4130 - accuracy: 0.9091 - val_loss: 0.8132 - val_accuracy: 0.6818\n",
            "Epoch 163/300\n",
            "4/4 [==============================] - 0s 11ms/step - loss: 0.4109 - accuracy: 0.9091 - val_loss: 0.8080 - val_accuracy: 0.6818\n",
            "Epoch 164/300\n",
            "4/4 [==============================] - 0s 11ms/step - loss: 0.4087 - accuracy: 0.9091 - val_loss: 0.8348 - val_accuracy: 0.6364\n",
            "Epoch 165/300\n",
            "4/4 [==============================] - 0s 11ms/step - loss: 0.4067 - accuracy: 0.9091 - val_loss: 0.8287 - val_accuracy: 0.6364\n",
            "Epoch 166/300\n",
            "4/4 [==============================] - 0s 10ms/step - loss: 0.4053 - accuracy: 0.9091 - val_loss: 0.7861 - val_accuracy: 0.6818\n",
            "Epoch 167/300\n",
            "4/4 [==============================] - 0s 9ms/step - loss: 0.4000 - accuracy: 0.8939 - val_loss: 0.8076 - val_accuracy: 0.6364\n",
            "Epoch 168/300\n",
            "4/4 [==============================] - 0s 10ms/step - loss: 0.3972 - accuracy: 0.9091 - val_loss: 0.7742 - val_accuracy: 0.7273\n",
            "Epoch 169/300\n",
            "4/4 [==============================] - 0s 11ms/step - loss: 0.4009 - accuracy: 0.8788 - val_loss: 0.7739 - val_accuracy: 0.7273\n",
            "Epoch 170/300\n",
            "4/4 [==============================] - 0s 12ms/step - loss: 0.3918 - accuracy: 0.8939 - val_loss: 0.8056 - val_accuracy: 0.6364\n",
            "Epoch 171/300\n",
            "4/4 [==============================] - 0s 11ms/step - loss: 0.3855 - accuracy: 0.9091 - val_loss: 0.8042 - val_accuracy: 0.6364\n",
            "Epoch 172/300\n",
            "4/4 [==============================] - 0s 11ms/step - loss: 0.3867 - accuracy: 0.9091 - val_loss: 0.7917 - val_accuracy: 0.6818\n",
            "Epoch 173/300\n",
            "4/4 [==============================] - 0s 11ms/step - loss: 0.3849 - accuracy: 0.8939 - val_loss: 0.7863 - val_accuracy: 0.6818\n",
            "Epoch 174/300\n",
            "4/4 [==============================] - 0s 12ms/step - loss: 0.3891 - accuracy: 0.8939 - val_loss: 0.7947 - val_accuracy: 0.6818\n",
            "Epoch 175/300\n",
            "4/4 [==============================] - 0s 10ms/step - loss: 0.3767 - accuracy: 0.8939 - val_loss: 0.8221 - val_accuracy: 0.6364\n",
            "Epoch 176/300\n",
            "4/4 [==============================] - 0s 11ms/step - loss: 0.3733 - accuracy: 0.9091 - val_loss: 0.8208 - val_accuracy: 0.6818\n",
            "Epoch 177/300\n",
            "4/4 [==============================] - 0s 15ms/step - loss: 0.3707 - accuracy: 0.9091 - val_loss: 0.8268 - val_accuracy: 0.6364\n",
            "Epoch 178/300\n",
            "4/4 [==============================] - 0s 11ms/step - loss: 0.3690 - accuracy: 0.9091 - val_loss: 0.7938 - val_accuracy: 0.6818\n",
            "Epoch 179/300\n",
            "4/4 [==============================] - 0s 12ms/step - loss: 0.3710 - accuracy: 0.8939 - val_loss: 0.8026 - val_accuracy: 0.7273\n",
            "Epoch 180/300\n",
            "4/4 [==============================] - 0s 10ms/step - loss: 0.3646 - accuracy: 0.9242 - val_loss: 0.8157 - val_accuracy: 0.7273\n",
            "Epoch 181/300\n",
            "4/4 [==============================] - 0s 10ms/step - loss: 0.3626 - accuracy: 0.9242 - val_loss: 0.8362 - val_accuracy: 0.6818\n",
            "Epoch 182/300\n",
            "4/4 [==============================] - 0s 10ms/step - loss: 0.3598 - accuracy: 0.9091 - val_loss: 0.8241 - val_accuracy: 0.6818\n",
            "Epoch 183/300\n",
            "4/4 [==============================] - 0s 10ms/step - loss: 0.3602 - accuracy: 0.8939 - val_loss: 0.7953 - val_accuracy: 0.6818\n",
            "Epoch 184/300\n",
            "4/4 [==============================] - 0s 11ms/step - loss: 0.3689 - accuracy: 0.8788 - val_loss: 0.8088 - val_accuracy: 0.7273\n",
            "Epoch 185/300\n",
            "4/4 [==============================] - 0s 13ms/step - loss: 0.3599 - accuracy: 0.9091 - val_loss: 0.7943 - val_accuracy: 0.7273\n",
            "Epoch 186/300\n",
            "4/4 [==============================] - 0s 9ms/step - loss: 0.3625 - accuracy: 0.8939 - val_loss: 0.8117 - val_accuracy: 0.7273\n",
            "Epoch 187/300\n",
            "4/4 [==============================] - 0s 12ms/step - loss: 0.3525 - accuracy: 0.9091 - val_loss: 0.8296 - val_accuracy: 0.6818\n",
            "Epoch 188/300\n",
            "4/4 [==============================] - 0s 10ms/step - loss: 0.3447 - accuracy: 0.9242 - val_loss: 0.8339 - val_accuracy: 0.6364\n",
            "Epoch 189/300\n",
            "4/4 [==============================] - 0s 13ms/step - loss: 0.3418 - accuracy: 0.9242 - val_loss: 0.8493 - val_accuracy: 0.6364\n",
            "Epoch 190/300\n",
            "4/4 [==============================] - 0s 14ms/step - loss: 0.3394 - accuracy: 0.9242 - val_loss: 0.8377 - val_accuracy: 0.6364\n",
            "Epoch 191/300\n",
            "4/4 [==============================] - 0s 13ms/step - loss: 0.3405 - accuracy: 0.8939 - val_loss: 0.8435 - val_accuracy: 0.6818\n",
            "Epoch 192/300\n",
            "4/4 [==============================] - 0s 19ms/step - loss: 0.3363 - accuracy: 0.9242 - val_loss: 0.8739 - val_accuracy: 0.6818\n",
            "Epoch 193/300\n",
            "4/4 [==============================] - 0s 16ms/step - loss: 0.3378 - accuracy: 0.9242 - val_loss: 0.8171 - val_accuracy: 0.7273\n",
            "Epoch 194/300\n",
            "4/4 [==============================] - 0s 19ms/step - loss: 0.3314 - accuracy: 0.9091 - val_loss: 0.8353 - val_accuracy: 0.7273\n",
            "Epoch 195/300\n",
            "4/4 [==============================] - 0s 22ms/step - loss: 0.3281 - accuracy: 0.9242 - val_loss: 0.8295 - val_accuracy: 0.7273\n",
            "Epoch 196/300\n",
            "4/4 [==============================] - 0s 13ms/step - loss: 0.3245 - accuracy: 0.9242 - val_loss: 0.8101 - val_accuracy: 0.7273\n",
            "Epoch 197/300\n",
            "4/4 [==============================] - 0s 17ms/step - loss: 0.3255 - accuracy: 0.9091 - val_loss: 0.8556 - val_accuracy: 0.6364\n",
            "Epoch 198/300\n",
            "4/4 [==============================] - 0s 22ms/step - loss: 0.3255 - accuracy: 0.9242 - val_loss: 0.8513 - val_accuracy: 0.7273\n",
            "Epoch 199/300\n",
            "4/4 [==============================] - 0s 13ms/step - loss: 0.3226 - accuracy: 0.9242 - val_loss: 0.8348 - val_accuracy: 0.7273\n",
            "Epoch 200/300\n",
            "4/4 [==============================] - 0s 14ms/step - loss: 0.3203 - accuracy: 0.9091 - val_loss: 0.8656 - val_accuracy: 0.6364\n",
            "Epoch 201/300\n",
            "4/4 [==============================] - 0s 12ms/step - loss: 0.3185 - accuracy: 0.9242 - val_loss: 0.8589 - val_accuracy: 0.6818\n",
            "Epoch 202/300\n",
            "4/4 [==============================] - 0s 13ms/step - loss: 0.3123 - accuracy: 0.9242 - val_loss: 0.8415 - val_accuracy: 0.6818\n",
            "Epoch 203/300\n",
            "4/4 [==============================] - 0s 12ms/step - loss: 0.3112 - accuracy: 0.9242 - val_loss: 0.8732 - val_accuracy: 0.6364\n",
            "Epoch 204/300\n",
            "4/4 [==============================] - 0s 14ms/step - loss: 0.3105 - accuracy: 0.9242 - val_loss: 0.8204 - val_accuracy: 0.6818\n",
            "Epoch 205/300\n",
            "4/4 [==============================] - 0s 14ms/step - loss: 0.3098 - accuracy: 0.9091 - val_loss: 0.8615 - val_accuracy: 0.6364\n",
            "Epoch 206/300\n",
            "4/4 [==============================] - 0s 28ms/step - loss: 0.3089 - accuracy: 0.9242 - val_loss: 0.8431 - val_accuracy: 0.6818\n",
            "Epoch 207/300\n",
            "4/4 [==============================] - 0s 12ms/step - loss: 0.3026 - accuracy: 0.9242 - val_loss: 0.8296 - val_accuracy: 0.7273\n",
            "Epoch 208/300\n",
            "4/4 [==============================] - 0s 13ms/step - loss: 0.3015 - accuracy: 0.9242 - val_loss: 0.8456 - val_accuracy: 0.6818\n",
            "Epoch 209/300\n",
            "4/4 [==============================] - 0s 15ms/step - loss: 0.3034 - accuracy: 0.9242 - val_loss: 0.9020 - val_accuracy: 0.6364\n",
            "Epoch 210/300\n",
            "4/4 [==============================] - 0s 13ms/step - loss: 0.3039 - accuracy: 0.9242 - val_loss: 0.8254 - val_accuracy: 0.6818\n",
            "Epoch 211/300\n",
            "4/4 [==============================] - 0s 13ms/step - loss: 0.2984 - accuracy: 0.9091 - val_loss: 0.8570 - val_accuracy: 0.6818\n",
            "Epoch 212/300\n",
            "4/4 [==============================] - 0s 19ms/step - loss: 0.2967 - accuracy: 0.9242 - val_loss: 0.8611 - val_accuracy: 0.6818\n",
            "Epoch 213/300\n",
            "4/4 [==============================] - 0s 16ms/step - loss: 0.2907 - accuracy: 0.9242 - val_loss: 0.8868 - val_accuracy: 0.6364\n",
            "Epoch 214/300\n",
            "4/4 [==============================] - 0s 11ms/step - loss: 0.2911 - accuracy: 0.9242 - val_loss: 0.8729 - val_accuracy: 0.7273\n",
            "Epoch 215/300\n",
            "4/4 [==============================] - 0s 11ms/step - loss: 0.2878 - accuracy: 0.9242 - val_loss: 0.8916 - val_accuracy: 0.6364\n",
            "Epoch 216/300\n",
            "4/4 [==============================] - 0s 11ms/step - loss: 0.2851 - accuracy: 0.9242 - val_loss: 0.8878 - val_accuracy: 0.6818\n",
            "Epoch 217/300\n",
            "4/4 [==============================] - 0s 16ms/step - loss: 0.2887 - accuracy: 0.9242 - val_loss: 0.8992 - val_accuracy: 0.6364\n",
            "Epoch 218/300\n",
            "4/4 [==============================] - 0s 14ms/step - loss: 0.2824 - accuracy: 0.9242 - val_loss: 0.8982 - val_accuracy: 0.6364\n",
            "Epoch 219/300\n",
            "4/4 [==============================] - 0s 22ms/step - loss: 0.2819 - accuracy: 0.9242 - val_loss: 0.8805 - val_accuracy: 0.6364\n",
            "Epoch 220/300\n",
            "4/4 [==============================] - 0s 12ms/step - loss: 0.2815 - accuracy: 0.9242 - val_loss: 0.9129 - val_accuracy: 0.6364\n",
            "Epoch 221/300\n",
            "4/4 [==============================] - 0s 13ms/step - loss: 0.2820 - accuracy: 0.9242 - val_loss: 0.9137 - val_accuracy: 0.6818\n",
            "Epoch 222/300\n",
            "4/4 [==============================] - 0s 11ms/step - loss: 0.2798 - accuracy: 0.9242 - val_loss: 0.9071 - val_accuracy: 0.6364\n",
            "Epoch 223/300\n",
            "4/4 [==============================] - 0s 13ms/step - loss: 0.2777 - accuracy: 0.9242 - val_loss: 0.8471 - val_accuracy: 0.7273\n",
            "Epoch 224/300\n",
            "4/4 [==============================] - 0s 16ms/step - loss: 0.2864 - accuracy: 0.9091 - val_loss: 0.8703 - val_accuracy: 0.6818\n",
            "Epoch 225/300\n",
            "4/4 [==============================] - 0s 23ms/step - loss: 0.2728 - accuracy: 0.9242 - val_loss: 0.9155 - val_accuracy: 0.6364\n",
            "Epoch 226/300\n",
            "4/4 [==============================] - 0s 16ms/step - loss: 0.2738 - accuracy: 0.9242 - val_loss: 0.9138 - val_accuracy: 0.6364\n",
            "Epoch 227/300\n",
            "4/4 [==============================] - 0s 13ms/step - loss: 0.2676 - accuracy: 0.9394 - val_loss: 0.9237 - val_accuracy: 0.6818\n",
            "Epoch 228/300\n",
            "4/4 [==============================] - 0s 13ms/step - loss: 0.2685 - accuracy: 0.9394 - val_loss: 0.9201 - val_accuracy: 0.6364\n",
            "Epoch 229/300\n",
            "4/4 [==============================] - 0s 14ms/step - loss: 0.2644 - accuracy: 0.9394 - val_loss: 0.9089 - val_accuracy: 0.6364\n",
            "Epoch 230/300\n",
            "4/4 [==============================] - 0s 12ms/step - loss: 0.2621 - accuracy: 0.9394 - val_loss: 0.9237 - val_accuracy: 0.6364\n",
            "Epoch 231/300\n",
            "4/4 [==============================] - 0s 20ms/step - loss: 0.2600 - accuracy: 0.9394 - val_loss: 0.8910 - val_accuracy: 0.7273\n",
            "Epoch 232/300\n",
            "4/4 [==============================] - 0s 22ms/step - loss: 0.2593 - accuracy: 0.9394 - val_loss: 0.8990 - val_accuracy: 0.7273\n",
            "Epoch 233/300\n",
            "4/4 [==============================] - 0s 19ms/step - loss: 0.2586 - accuracy: 0.9394 - val_loss: 0.9065 - val_accuracy: 0.7273\n",
            "Epoch 234/300\n",
            "4/4 [==============================] - 0s 16ms/step - loss: 0.2591 - accuracy: 0.9394 - val_loss: 0.8591 - val_accuracy: 0.7273\n",
            "Epoch 235/300\n",
            "4/4 [==============================] - 0s 18ms/step - loss: 0.2652 - accuracy: 0.9242 - val_loss: 0.8866 - val_accuracy: 0.7273\n",
            "Epoch 236/300\n",
            "4/4 [==============================] - 0s 15ms/step - loss: 0.2556 - accuracy: 0.9394 - val_loss: 0.8942 - val_accuracy: 0.7273\n",
            "Epoch 237/300\n",
            "4/4 [==============================] - 0s 16ms/step - loss: 0.2540 - accuracy: 0.9394 - val_loss: 0.9028 - val_accuracy: 0.7273\n",
            "Epoch 238/300\n",
            "4/4 [==============================] - 0s 22ms/step - loss: 0.2482 - accuracy: 0.9394 - val_loss: 0.9304 - val_accuracy: 0.6818\n",
            "Epoch 239/300\n",
            "4/4 [==============================] - 0s 16ms/step - loss: 0.2473 - accuracy: 0.9394 - val_loss: 0.9265 - val_accuracy: 0.6364\n",
            "Epoch 240/300\n",
            "4/4 [==============================] - 0s 18ms/step - loss: 0.2450 - accuracy: 0.9394 - val_loss: 0.9166 - val_accuracy: 0.7273\n",
            "Epoch 241/300\n",
            "4/4 [==============================] - 0s 18ms/step - loss: 0.2431 - accuracy: 0.9394 - val_loss: 0.9164 - val_accuracy: 0.6818\n",
            "Epoch 242/300\n",
            "4/4 [==============================] - 0s 15ms/step - loss: 0.2406 - accuracy: 0.9394 - val_loss: 0.9158 - val_accuracy: 0.6818\n",
            "Epoch 243/300\n",
            "4/4 [==============================] - 0s 18ms/step - loss: 0.2422 - accuracy: 0.9394 - val_loss: 0.9102 - val_accuracy: 0.6818\n",
            "Epoch 244/300\n",
            "4/4 [==============================] - 0s 16ms/step - loss: 0.2383 - accuracy: 0.9394 - val_loss: 0.9061 - val_accuracy: 0.6818\n",
            "Epoch 245/300\n",
            "4/4 [==============================] - 0s 26ms/step - loss: 0.2374 - accuracy: 0.9394 - val_loss: 0.9286 - val_accuracy: 0.6818\n",
            "Epoch 246/300\n",
            "4/4 [==============================] - 0s 16ms/step - loss: 0.2367 - accuracy: 0.9394 - val_loss: 0.9167 - val_accuracy: 0.6818\n",
            "Epoch 247/300\n",
            "4/4 [==============================] - 0s 16ms/step - loss: 0.2327 - accuracy: 0.9545 - val_loss: 0.9179 - val_accuracy: 0.6818\n",
            "Epoch 248/300\n",
            "4/4 [==============================] - 0s 16ms/step - loss: 0.2345 - accuracy: 0.9394 - val_loss: 0.9287 - val_accuracy: 0.6818\n",
            "Epoch 249/300\n",
            "4/4 [==============================] - 0s 16ms/step - loss: 0.2322 - accuracy: 0.9545 - val_loss: 0.9255 - val_accuracy: 0.7273\n",
            "Epoch 250/300\n",
            "4/4 [==============================] - 0s 17ms/step - loss: 0.2316 - accuracy: 0.9545 - val_loss: 0.9314 - val_accuracy: 0.6818\n",
            "Epoch 251/300\n",
            "4/4 [==============================] - 0s 15ms/step - loss: 0.2302 - accuracy: 0.9545 - val_loss: 0.8667 - val_accuracy: 0.7273\n",
            "Epoch 252/300\n",
            "4/4 [==============================] - 0s 22ms/step - loss: 0.2411 - accuracy: 0.9394 - val_loss: 0.8979 - val_accuracy: 0.7273\n",
            "Epoch 253/300\n",
            "4/4 [==============================] - 0s 15ms/step - loss: 0.2326 - accuracy: 0.9545 - val_loss: 0.9422 - val_accuracy: 0.7273\n",
            "Epoch 254/300\n",
            "4/4 [==============================] - 0s 14ms/step - loss: 0.2273 - accuracy: 0.9545 - val_loss: 0.9197 - val_accuracy: 0.7273\n",
            "Epoch 255/300\n",
            "4/4 [==============================] - 0s 16ms/step - loss: 0.2309 - accuracy: 0.9545 - val_loss: 0.9602 - val_accuracy: 0.7273\n",
            "Epoch 256/300\n",
            "4/4 [==============================] - 0s 13ms/step - loss: 0.2223 - accuracy: 0.9545 - val_loss: 0.9492 - val_accuracy: 0.7273\n",
            "Epoch 257/300\n",
            "4/4 [==============================] - 0s 22ms/step - loss: 0.2187 - accuracy: 0.9545 - val_loss: 0.9407 - val_accuracy: 0.7273\n",
            "Epoch 258/300\n",
            "4/4 [==============================] - 0s 15ms/step - loss: 0.2190 - accuracy: 0.9545 - val_loss: 0.9644 - val_accuracy: 0.6818\n",
            "Epoch 259/300\n",
            "4/4 [==============================] - 0s 21ms/step - loss: 0.2186 - accuracy: 0.9545 - val_loss: 0.9514 - val_accuracy: 0.7273\n",
            "Epoch 260/300\n",
            "4/4 [==============================] - 0s 17ms/step - loss: 0.2179 - accuracy: 0.9545 - val_loss: 0.8822 - val_accuracy: 0.7273\n",
            "Epoch 261/300\n",
            "4/4 [==============================] - 0s 15ms/step - loss: 0.2386 - accuracy: 0.9242 - val_loss: 0.8787 - val_accuracy: 0.7273\n",
            "Epoch 262/300\n",
            "4/4 [==============================] - 0s 16ms/step - loss: 0.2345 - accuracy: 0.9394 - val_loss: 0.8763 - val_accuracy: 0.6818\n",
            "Epoch 263/300\n",
            "4/4 [==============================] - 0s 12ms/step - loss: 0.2330 - accuracy: 0.9242 - val_loss: 0.9483 - val_accuracy: 0.6818\n",
            "Epoch 264/300\n",
            "4/4 [==============================] - 0s 11ms/step - loss: 0.2114 - accuracy: 0.9545 - val_loss: 0.8833 - val_accuracy: 0.7273\n",
            "Epoch 265/300\n",
            "4/4 [==============================] - 0s 12ms/step - loss: 0.2276 - accuracy: 0.9242 - val_loss: 0.9200 - val_accuracy: 0.6818\n",
            "Epoch 266/300\n",
            "4/4 [==============================] - 0s 11ms/step - loss: 0.2115 - accuracy: 0.9545 - val_loss: 0.8987 - val_accuracy: 0.6818\n",
            "Epoch 267/300\n",
            "4/4 [==============================] - 0s 13ms/step - loss: 0.2159 - accuracy: 0.9545 - val_loss: 0.8769 - val_accuracy: 0.6818\n",
            "Epoch 268/300\n",
            "4/4 [==============================] - 0s 11ms/step - loss: 0.2200 - accuracy: 0.9394 - val_loss: 0.9245 - val_accuracy: 0.6818\n",
            "Epoch 269/300\n",
            "4/4 [==============================] - 0s 11ms/step - loss: 0.2055 - accuracy: 0.9545 - val_loss: 0.9495 - val_accuracy: 0.6818\n",
            "Epoch 270/300\n",
            "4/4 [==============================] - 0s 11ms/step - loss: 0.2048 - accuracy: 0.9545 - val_loss: 0.9589 - val_accuracy: 0.6818\n",
            "Epoch 271/300\n",
            "4/4 [==============================] - 0s 13ms/step - loss: 0.2022 - accuracy: 0.9545 - val_loss: 0.9527 - val_accuracy: 0.7273\n",
            "Epoch 272/300\n",
            "4/4 [==============================] - 0s 12ms/step - loss: 0.2012 - accuracy: 0.9545 - val_loss: 0.9721 - val_accuracy: 0.7273\n",
            "Epoch 273/300\n",
            "4/4 [==============================] - 0s 11ms/step - loss: 0.2034 - accuracy: 0.9545 - val_loss: 1.0348 - val_accuracy: 0.6364\n",
            "Epoch 274/300\n",
            "4/4 [==============================] - 0s 11ms/step - loss: 0.2091 - accuracy: 0.9545 - val_loss: 0.9948 - val_accuracy: 0.6364\n",
            "Epoch 275/300\n",
            "4/4 [==============================] - 0s 13ms/step - loss: 0.1987 - accuracy: 0.9545 - val_loss: 0.9898 - val_accuracy: 0.6364\n",
            "Epoch 276/300\n",
            "4/4 [==============================] - 0s 12ms/step - loss: 0.1981 - accuracy: 0.9545 - val_loss: 0.9826 - val_accuracy: 0.6818\n",
            "Epoch 277/300\n",
            "4/4 [==============================] - 0s 11ms/step - loss: 0.1973 - accuracy: 0.9545 - val_loss: 0.9962 - val_accuracy: 0.6818\n",
            "Epoch 278/300\n",
            "4/4 [==============================] - 0s 13ms/step - loss: 0.1974 - accuracy: 0.9545 - val_loss: 1.0193 - val_accuracy: 0.5909\n",
            "Epoch 279/300\n",
            "4/4 [==============================] - 0s 10ms/step - loss: 0.2019 - accuracy: 0.9545 - val_loss: 0.9891 - val_accuracy: 0.6818\n",
            "Epoch 280/300\n",
            "4/4 [==============================] - 0s 13ms/step - loss: 0.1968 - accuracy: 0.9545 - val_loss: 1.0420 - val_accuracy: 0.5909\n",
            "Epoch 281/300\n",
            "4/4 [==============================] - 0s 11ms/step - loss: 0.2029 - accuracy: 0.9545 - val_loss: 1.0161 - val_accuracy: 0.6364\n",
            "Epoch 282/300\n",
            "4/4 [==============================] - 0s 13ms/step - loss: 0.1958 - accuracy: 0.9545 - val_loss: 0.9795 - val_accuracy: 0.7273\n",
            "Epoch 283/300\n",
            "4/4 [==============================] - 0s 12ms/step - loss: 0.1886 - accuracy: 0.9545 - val_loss: 0.9976 - val_accuracy: 0.7273\n",
            "Epoch 284/300\n",
            "4/4 [==============================] - 0s 11ms/step - loss: 0.1883 - accuracy: 0.9545 - val_loss: 0.9852 - val_accuracy: 0.7273\n",
            "Epoch 285/300\n",
            "4/4 [==============================] - 0s 19ms/step - loss: 0.1891 - accuracy: 0.9545 - val_loss: 0.9326 - val_accuracy: 0.7273\n",
            "Epoch 286/300\n",
            "4/4 [==============================] - 0s 13ms/step - loss: 0.1998 - accuracy: 0.9242 - val_loss: 1.0027 - val_accuracy: 0.7273\n",
            "Epoch 287/300\n",
            "4/4 [==============================] - 0s 11ms/step - loss: 0.1884 - accuracy: 0.9545 - val_loss: 1.0032 - val_accuracy: 0.7273\n",
            "Epoch 288/300\n",
            "4/4 [==============================] - 0s 10ms/step - loss: 0.1849 - accuracy: 0.9545 - val_loss: 1.0020 - val_accuracy: 0.6818\n",
            "Epoch 289/300\n",
            "4/4 [==============================] - 0s 12ms/step - loss: 0.1840 - accuracy: 0.9545 - val_loss: 0.9961 - val_accuracy: 0.7273\n",
            "Epoch 290/300\n",
            "4/4 [==============================] - 0s 12ms/step - loss: 0.1845 - accuracy: 0.9545 - val_loss: 0.9836 - val_accuracy: 0.7273\n",
            "Epoch 291/300\n",
            "4/4 [==============================] - 0s 11ms/step - loss: 0.1815 - accuracy: 0.9545 - val_loss: 0.9959 - val_accuracy: 0.7273\n",
            "Epoch 292/300\n",
            "4/4 [==============================] - 0s 11ms/step - loss: 0.1808 - accuracy: 0.9545 - val_loss: 0.9231 - val_accuracy: 0.7273\n",
            "Epoch 293/300\n",
            "4/4 [==============================] - 0s 11ms/step - loss: 0.2045 - accuracy: 0.9242 - val_loss: 0.9923 - val_accuracy: 0.7273\n",
            "Epoch 294/300\n",
            "4/4 [==============================] - 0s 11ms/step - loss: 0.1803 - accuracy: 0.9545 - val_loss: 1.0310 - val_accuracy: 0.7273\n",
            "Epoch 295/300\n",
            "4/4 [==============================] - 0s 11ms/step - loss: 0.1769 - accuracy: 0.9545 - val_loss: 1.0086 - val_accuracy: 0.6818\n",
            "Epoch 296/300\n",
            "4/4 [==============================] - 0s 13ms/step - loss: 0.1766 - accuracy: 0.9545 - val_loss: 1.0342 - val_accuracy: 0.6364\n",
            "Epoch 297/300\n",
            "4/4 [==============================] - 0s 11ms/step - loss: 0.1789 - accuracy: 0.9545 - val_loss: 1.0211 - val_accuracy: 0.7273\n",
            "Epoch 298/300\n",
            "4/4 [==============================] - 0s 11ms/step - loss: 0.1738 - accuracy: 0.9545 - val_loss: 1.0511 - val_accuracy: 0.6364\n",
            "Epoch 299/300\n",
            "4/4 [==============================] - 0s 13ms/step - loss: 0.1759 - accuracy: 0.9545 - val_loss: 1.0372 - val_accuracy: 0.7273\n",
            "Epoch 300/300\n",
            "4/4 [==============================] - 0s 11ms/step - loss: 0.1741 - accuracy: 0.9545 - val_loss: 1.0213 - val_accuracy: 0.7273\n"
          ]
        },
        {
          "data": {
            "text/plain": [
              "<keras.callbacks.History at 0x7f84d434fbe0>"
            ]
          },
          "execution_count": 32,
          "metadata": {},
          "output_type": "execute_result"
        }
      ],
      "source": [
        "# submitting model 6\n",
        "import keras\n",
        "from keras.models import Sequential\n",
        "from keras.layers import Dense, Activation\n",
        "\n",
        "feature_count=preprocessor(X_train).shape[1] #count features in input data\n",
        "\n",
        "keras_model = Sequential()\n",
        "keras_model.add(Dense(128, input_dim=feature_count, activation='relu'))\n",
        "keras_model.add(Dense(64, activation='relu'))\n",
        "keras_model.add(Dense(64, activation='relu'))\n",
        "keras_model.add(Dense(32, activation='relu'))\n",
        "\n",
        "keras_model.add(Dense(5, activation='softmax')) \n",
        "                                            \n",
        "# Compile model\n",
        "keras_model.compile(loss='categorical_crossentropy', optimizer='sgd', metrics=['accuracy'])\n",
        "\n",
        "# Fitting the NN to the Training set\n",
        "keras_model.fit(preprocessor(X_train), y_train, ## Note that keras models require a one-hot-encoded y_train object\n",
        "               batch_size = 20, \n",
        "               epochs = 300, validation_split=0.25)  "
      ]
    },
    {
      "cell_type": "code",
      "execution_count": null,
      "metadata": {
        "id": "tK4cgH4gi8au"
      },
      "outputs": [],
      "source": [
        "# Save keras model to ONNX file \n",
        "\n",
        "from aimodelshare.aimsonnx import model_to_onnx\n",
        "\n",
        "onnx_model = model_to_onnx(keras_model, framework='keras',\n",
        "                          transfer_learning=False,\n",
        "                          deep_learning=True)\n",
        "\n",
        "with open(\"model.onnx\", \"wb\") as f:\n",
        "    f.write(onnx_model.SerializeToString())\n",
        "\n",
        "# Submit keras model: \n",
        "\n",
        "#-- Generate predicted y values\n",
        "#Note: Keras predict returns the predicted column index location for classification models\n",
        "prediction_column_index=keras_model.predict(preprocessor(X_test)).argmax(axis=1)\n",
        "\n",
        "# extract correct prediction labels \n",
        "prediction_labels = [y_train.columns[i] for i in prediction_column_index]\n",
        "\n",
        "# Submit Model to Competition Leaderboard\n",
        "mycompetition.submit_model(model_filepath = \"model.onnx\",\n",
        "                                 preprocessor_filepath=\"preprocessor.zip\",\n",
        "                                 prediction_submission=prediction_labels)"
      ]
    },
    {
      "cell_type": "markdown",
      "metadata": {
        "id": "1Va1DNfKECuQ"
      },
      "source": [
        "## Models after discussion"
      ]
    },
    {
      "cell_type": "markdown",
      "metadata": {
        "id": "MLc-hu5-MN2U"
      },
      "source": [
        "### First model after discussion\n",
        "\n"
      ]
    },
    {
      "cell_type": "code",
      "execution_count": 37,
      "metadata": {
        "colab": {
          "base_uri": "https://localhost:8080/"
        },
        "id": "AJdndsxvGO2P",
        "outputId": "78a67132-fd58-498a-eeeb-6ddc786d0c56"
      },
      "outputs": [
        {
          "name": "stdout",
          "output_type": "stream",
          "text": [
            "Insert search tags to help users find your model (optional): \n",
            "Provide any useful notes about your model (optional): RandomForestClassifier(n_estimators = 250, max_depth = 10)\n",
            "\n",
            "Your model has been submitted as model version 788\n",
            "\n",
            "To submit code used to create this model or to view current leaderboard navigate to Model Playground: \n",
            "\n",
            " https://www.modelshare.org/detail/model:3164\n"
          ]
        }
      ],
      "source": [
        "model7 = RandomForestClassifier(n_estimators = 250, max_depth = 10)\n",
        "model7.fit(preprocessor(X_train), y_train_labels)\n",
        "\n",
        "feature_count=preprocessor(X_test).shape[1] #Get count of preprocessed features\n",
        "initial_type = [('float_input', FloatTensorType([None, feature_count]))]  # Insert correct number of preprocessed features\n",
        "\n",
        "onnx_model = model_to_onnx(model7, framework='sklearn',\n",
        "                          initial_types=initial_type,\n",
        "                          transfer_learning=False,\n",
        "                          deep_learning=False)\n",
        "\n",
        "with open(\"model.onnx\", \"wb\") as f:\n",
        "    f.write(onnx_model.SerializeToString())\n",
        "\n",
        "#-- Generate predicted values \n",
        "prediction_labels = model7.predict(preprocessor(X_test))\n",
        "\n",
        "# Submit model to Competition Leaderboard\n",
        "mycompetition.submit_model(model_filepath = \"model.onnx\",\n",
        "                                 preprocessor_filepath=\"preprocessor.zip\",\n",
        "                                 prediction_submission=prediction_labels,\n",
        "                                custom_metadata= {'team':5})"
      ]
    },
    {
      "cell_type": "markdown",
      "metadata": {
        "id": "dxY3R9HqMUXC"
      },
      "source": [
        "### Second model after discussion"
      ]
    },
    {
      "cell_type": "code",
      "execution_count": 41,
      "metadata": {
        "colab": {
          "base_uri": "https://localhost:8080/"
        },
        "id": "EKLuGOKfMk6p",
        "outputId": "72261ee9-c6c9-46ab-d597-15583e51cee7"
      },
      "outputs": [
        {
          "name": "stdout",
          "output_type": "stream",
          "text": [
            "Insert search tags to help users find your model (optional): \n",
            "Provide any useful notes about your model (optional): BaggingClassifier(n_estimators=50, n_jobs=3, random_state=0)\n",
            "\n",
            "Your model has been submitted as model version 790\n",
            "\n",
            "To submit code used to create this model or to view current leaderboard navigate to Model Playground: \n",
            "\n",
            " https://www.modelshare.org/detail/model:3164\n"
          ]
        }
      ],
      "source": [
        "model8 = BaggingClassifier(n_estimators=50, n_jobs=3, random_state=0)\n",
        "model8.fit(preprocessor(X_train), y_train_labels)\n",
        "model8.score(preprocessor(X_train), y_train_labels)\n",
        "\n",
        "from aimodelshare.aimsonnx import model_to_onnx\n",
        "\n",
        "feature_count=preprocessor(X_test).shape[1] #Get count of preprocessed features\n",
        "initial_type = [('float_input', FloatTensorType([None, feature_count]))]  # Insert correct number of preprocessed features\n",
        "\n",
        "onnx_model = model_to_onnx(model8, framework='sklearn',\n",
        "                          initial_types=initial_type,\n",
        "                          transfer_learning=False,\n",
        "                          deep_learning=False)\n",
        "\n",
        "with open(\"model.onnx\", \"wb\") as f:\n",
        "    f.write(onnx_model.SerializeToString())\n",
        "\n",
        "#-- Generate predicted values \n",
        "prediction_labels = model8.predict(preprocessor(X_test))\n",
        "\n",
        "# Submit model to Competition Leaderboard\n",
        "mycompetition.submit_model(model_filepath = \"model.onnx\",\n",
        "                                 preprocessor_filepath=\"preprocessor.zip\",\n",
        "                                 prediction_submission=prediction_labels,\n",
        "                                custom_metadata= {'team':5})\n"
      ]
    },
    {
      "cell_type": "markdown",
      "metadata": {
        "id": "GjRg4ubeNyeg"
      },
      "source": [
        "### Third model after discussion "
      ]
    },
    {
      "cell_type": "code",
      "execution_count": 44,
      "metadata": {
        "colab": {
          "base_uri": "https://localhost:8080/"
        },
        "id": "2H6cPaIbO7rI",
        "outputId": "51ca8ce2-fe22-42dc-c779-a37f95ff4da6"
      },
      "outputs": [
        {
          "data": {
            "text/plain": [
              "0.8409090909090909"
            ]
          },
          "execution_count": 44,
          "metadata": {},
          "output_type": "execute_result"
        }
      ],
      "source": [
        "model9 = SVC(kernel='rbf', C=1, degree=3,gamma = 'scale', cache_size = 30) # kernel and C are the main args to adjust for linear SVC\n",
        "model9.fit(preprocessor(X_train), y_train_labels)\n",
        "model9.score(preprocessor(X_train), y_train_labels)"
      ]
    },
    {
      "cell_type": "code",
      "execution_count": 45,
      "metadata": {
        "colab": {
          "base_uri": "https://localhost:8080/"
        },
        "id": "wbtb18UJPS8w",
        "outputId": "29a4dcd4-5d6f-4a79-a0f7-6c630a92df70"
      },
      "outputs": [
        {
          "name": "stdout",
          "output_type": "stream",
          "text": [
            "Insert search tags to help users find your model (optional): \n",
            "Provide any useful notes about your model (optional): SVC(kernel='rbf', C=1, degree=3,gamma = 'scale', cache_size = 30)\n",
            "\n",
            "Your model has been submitted as model version 796\n",
            "\n",
            "To submit code used to create this model or to view current leaderboard navigate to Model Playground: \n",
            "\n",
            " https://www.modelshare.org/detail/model:3164\n"
          ]
        }
      ],
      "source": [
        "from aimodelshare.aimsonnx import model_to_onnx\n",
        "\n",
        "feature_count=preprocessor(X_test).shape[1] #Get count of preprocessed features\n",
        "initial_type = [('float_input', FloatTensorType([None, feature_count]))]  # Insert correct number of preprocessed features\n",
        "\n",
        "onnx_model = model_to_onnx(model9, framework='sklearn',\n",
        "                          initial_types=initial_type,\n",
        "                          transfer_learning=False,\n",
        "                          deep_learning=False)\n",
        "\n",
        "with open(\"model.onnx\", \"wb\") as f:\n",
        "    f.write(onnx_model.SerializeToString())\n",
        "\n",
        "#-- Generate predicted values \n",
        "prediction_labels = model9.predict(preprocessor(X_test))\n",
        "\n",
        "# Submit model to Competition Leaderboard\n",
        "mycompetition.submit_model(model_filepath = \"model.onnx\",\n",
        "                                 preprocessor_filepath=\"preprocessor.zip\",\n",
        "                                 prediction_submission=prediction_labels,\n",
        "                                custom_metadata= {'team':5})\n"
      ]
    },
    {
      "cell_type": "markdown",
      "metadata": {
        "id": "fCJ3Txt2Q5ZG"
      },
      "source": [
        "## Discussion"
      ]
    },
    {
      "cell_type": "markdown",
      "metadata": {
        "id": "0UTLFNFyPiDI"
      },
      "source": [
        "Among the ones I have submitted prior to our group discussion, my random forest model with parameters n_estimators = 100, max_depth = 5 has the highest f1 and accuracy of 0.5, and my random forest models consistently scoring better than my neural network and gradient boosting models. After discussing with my teammates and a few more trials, we decided to pick SVC, Bagging, and random forest as our top models. Among the new models, bagging has a staggering f1 score of 0.53, highest among all my submitted models. "
      ]
    }
  ],
  "metadata": {
    "colab": {
      "provenance": []
    },
    "kernelspec": {
      "display_name": "Python 3.10.8 64-bit",
      "language": "python",
      "name": "python3"
    },
    "language_info": {
      "name": "python",
      "version": "3.10.8"
    },
    "vscode": {
      "interpreter": {
        "hash": "b0fa6594d8f4cbf19f97940f81e996739fb7646882a419484c72d19e05852a7e"
      }
    }
  },
  "nbformat": 4,
  "nbformat_minor": 0
}
